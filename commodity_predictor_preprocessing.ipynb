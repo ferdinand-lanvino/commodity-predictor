{
  "nbformat": 4,
  "nbformat_minor": 0,
  "metadata": {
    "colab": {
      "name": "commodity_predictor_preprocessing.ipynb",
      "provenance": [],
      "collapsed_sections": [],
      "authorship_tag": "ABX9TyPIJcCeJVZ9q/RGoa8fvIpL",
      "include_colab_link": true
    },
    "kernelspec": {
      "name": "python3",
      "display_name": "Python 3"
    }
  },
  "cells": [
    {
      "cell_type": "markdown",
      "metadata": {
        "id": "view-in-github",
        "colab_type": "text"
      },
      "source": [
        "<a href=\"https://colab.research.google.com/github/ferdinand-lanvino/commodity-predictor/blob/master/commodity_predictor_preprocessing.ipynb\" target=\"_parent\"><img src=\"https://colab.research.google.com/assets/colab-badge.svg\" alt=\"Open In Colab\"/></a>"
      ]
    },
    {
      "cell_type": "code",
      "metadata": {
        "id": "zlPoJK7SozQe",
        "colab_type": "code",
        "colab": {
          "base_uri": "https://localhost:8080/",
          "height": 230
        },
        "outputId": "52323384-0654-4b13-bc82-8b37810e930d"
      },
      "source": [
        "# Clone commodity-predictor repo.\n",
        "!git clone -l -s git://github.com/ferdinand-lanvino/commodity-predictor.git\n",
        "%cd commodity-predictor\n",
        "!ls"
      ],
      "execution_count": 1,
      "outputs": [
        {
          "output_type": "stream",
          "text": [
            "Cloning into 'commodity-predictor'...\n",
            "warning: --local is ignored\n",
            "remote: Enumerating objects: 162, done.\u001b[K\n",
            "remote: Counting objects:   0% (1/162)\u001b[K\rremote: Counting objects:   1% (2/162)\u001b[K\rremote: Counting objects:   2% (4/162)\u001b[K\rremote: Counting objects:   3% (5/162)\u001b[K\rremote: Counting objects:   4% (7/162)\u001b[K\rremote: Counting objects:   5% (9/162)\u001b[K\rremote: Counting objects:   6% (10/162)\u001b[K\rremote: Counting objects:   7% (12/162)\u001b[K\rremote: Counting objects:   8% (13/162)\u001b[K\rremote: Counting objects:   9% (15/162)\u001b[K\rremote: Counting objects:  10% (17/162)\u001b[K\rremote: Counting objects:  11% (18/162)\u001b[K\rremote: Counting objects:  12% (20/162)\u001b[K\rremote: Counting objects:  13% (22/162)\u001b[K\rremote: Counting objects:  14% (23/162)\u001b[K\rremote: Counting objects:  15% (25/162)\u001b[K\rremote: Counting objects:  16% (26/162)\u001b[K\rremote: Counting objects:  17% (28/162)\u001b[K\rremote: Counting objects:  18% (30/162)\u001b[K\rremote: Counting objects:  19% (31/162)\u001b[K\rremote: Counting objects:  20% (33/162)\u001b[K\rremote: Counting objects:  21% (35/162)\u001b[K\rremote: Counting objects:  22% (36/162)\u001b[K\rremote: Counting objects:  23% (38/162)\u001b[K\rremote: Counting objects:  24% (39/162)\u001b[K\rremote: Counting objects:  25% (41/162)\u001b[K\rremote: Counting objects:  26% (43/162)\u001b[K\rremote: Counting objects:  27% (44/162)\u001b[K\rremote: Counting objects:  28% (46/162)\u001b[K\rremote: Counting objects:  29% (47/162)\u001b[K\rremote: Counting objects:  30% (49/162)\u001b[K\rremote: Counting objects:  31% (51/162)\u001b[K\rremote: Counting objects:  32% (52/162)\u001b[K\rremote: Counting objects:  33% (54/162)\u001b[K\rremote: Counting objects:  34% (56/162)\u001b[K\rremote: Counting objects:  35% (57/162)\u001b[K\rremote: Counting objects:  36% (59/162)\u001b[K\rremote: Counting objects:  37% (60/162)\u001b[K\rremote: Counting objects:  38% (62/162)\u001b[K\rremote: Counting objects:  39% (64/162)\u001b[K\rremote: Counting objects:  40% (65/162)\u001b[K\rremote: Counting objects:  41% (67/162)\u001b[K\rremote: Counting objects:  42% (69/162)\u001b[K\rremote: Counting objects:  43% (70/162)\u001b[K\rremote: Counting objects:  44% (72/162)\u001b[K\rremote: Counting objects:  45% (73/162)\u001b[K\rremote: Counting objects:  46% (75/162)\u001b[K\rremote: Counting objects:  47% (77/162)\u001b[K\rremote: Counting objects:  48% (78/162)\u001b[K\rremote: Counting objects:  49% (80/162)\u001b[K\rremote: Counting objects:  50% (81/162)\u001b[K\rremote: Counting objects:  51% (83/162)\u001b[K\rremote: Counting objects:  52% (85/162)\u001b[K\rremote: Counting objects:  53% (86/162)\u001b[K\rremote: Counting objects:  54% (88/162)\u001b[K\rremote: Counting objects:  55% (90/162)\u001b[K\rremote: Counting objects:  56% (91/162)\u001b[K\rremote: Counting objects:  57% (93/162)\u001b[K\rremote: Counting objects:  58% (94/162)\u001b[K\rremote: Counting objects:  59% (96/162)\u001b[K\rremote: Counting objects:  60% (98/162)\u001b[K\rremote: Counting objects:  61% (99/162)\u001b[K\rremote: Counting objects:  62% (101/162)\u001b[K\rremote: Counting objects:  63% (103/162)\u001b[K\rremote: Counting objects:  64% (104/162)\u001b[K\rremote: Counting objects:  65% (106/162)\u001b[K\rremote: Counting objects:  66% (107/162)\u001b[K\rremote: Counting objects:  67% (109/162)\u001b[K\rremote: Counting objects:  68% (111/162)\u001b[K\rremote: Counting objects:  69% (112/162)\u001b[K\rremote: Counting objects:  70% (114/162)\u001b[K\rremote: Counting objects:  71% (116/162)\u001b[K\rremote: Counting objects:  72% (117/162)\u001b[K\rremote: Counting objects:  73% (119/162)\u001b[K\rremote: Counting objects:  74% (120/162)\u001b[K\rremote: Counting objects:  75% (122/162)\u001b[K\rremote: Counting objects:  76% (124/162)\u001b[K\rremote: Counting objects:  77% (125/162)\u001b[K\rremote: Counting objects:  78% (127/162)\u001b[K\rremote: Counting objects:  79% (128/162)\u001b[K\rremote: Counting objects:  80% (130/162)\u001b[K\rremote: Counting objects:  81% (132/162)\u001b[K\rremote: Counting objects:  82% (133/162)\u001b[K\rremote: Counting objects:  83% (135/162)\u001b[K\rremote: Counting objects:  84% (137/162)\u001b[K\rremote: Counting objects:  85% (138/162)\u001b[K\rremote: Counting objects:  86% (140/162)\u001b[K\rremote: Counting objects:  87% (141/162)\u001b[K\rremote: Counting objects:  88% (143/162)\u001b[K\rremote: Counting objects:  89% (145/162)\u001b[K\rremote: Counting objects:  90% (146/162)\u001b[K\rremote: Counting objects:  91% (148/162)\u001b[K\rremote: Counting objects:  92% (150/162)\u001b[K\rremote: Counting objects:  93% (151/162)\u001b[K\rremote: Counting objects:  94% (153/162)\u001b[K\rremote: Counting objects:  95% (154/162)\u001b[K\rremote: Counting objects:  96% (156/162)\u001b[K\rremote: Counting objects:  97% (158/162)\u001b[K\rremote: Counting objects:  98% (159/162)\u001b[K\rremote: Counting objects:  99% (161/162)\u001b[K\rremote: Counting objects: 100% (162/162)\u001b[K\rremote: Counting objects: 100% (162/162), done.\u001b[K\n",
            "remote: Compressing objects: 100% (135/135), done.\u001b[K\n",
            "remote: Total 162 (delta 60), reused 80 (delta 19), pack-reused 0\u001b[K\n",
            "Receiving objects: 100% (162/162), 2.02 MiB | 3.28 MiB/s, done.\n",
            "Resolving deltas: 100% (60/60), done.\n",
            "/content/commodity-predictor\n",
            "commodity_predictor_research.ipynb    Dataset\n",
            "commodity-price-predictor.ipynb       lstm\n",
            "commodity_price_predictor_lstm.ipynb  README.md\n"
          ],
          "name": "stdout"
        }
      ]
    },
    {
      "cell_type": "code",
      "metadata": {
        "id": "HB-ItDP0pEd6",
        "colab_type": "code",
        "colab": {
          "base_uri": "https://localhost:8080/",
          "height": 90
        },
        "outputId": "38b281a0-9b13-4adb-fabc-62eb209829a6"
      },
      "source": [
        "# Importing the libraries\n",
        "import numpy as np\n",
        "import matplotlib.pyplot as plt\n",
        "plt.style.use('fivethirtyeight')\n",
        "import pandas as pd\n",
        "import pandas_datareader as web\n",
        "from sklearn.preprocessing import MinMaxScaler\n",
        "from keras.models import Sequential\n",
        "from keras.layers import Dense, LSTM, Dropout, GRU, Bidirectional\n",
        "from keras.optimizers import SGD\n",
        "import math\n",
        "from sklearn.metrics import mean_squared_error\n",
        "from matplotlib.pylab import rcParams\n",
        "from tensorflow.python.framework import ops\n",
        "rcParams['figure.figsize'] = 14, 9"
      ],
      "execution_count": 2,
      "outputs": [
        {
          "output_type": "stream",
          "text": [
            "/usr/local/lib/python3.6/dist-packages/pandas_datareader/compat/__init__.py:7: FutureWarning: pandas.util.testing is deprecated. Use the functions in the public API at pandas.testing instead.\n",
            "  from pandas.util.testing import assert_frame_equal\n",
            "Using TensorFlow backend.\n"
          ],
          "name": "stderr"
        }
      ]
    },
    {
      "cell_type": "code",
      "metadata": {
        "id": "Rmf_tMw5pH77",
        "colab_type": "code",
        "colab": {
          "base_uri": "https://localhost:8080/",
          "height": 265
        },
        "outputId": "9ab771cb-c630-4b4c-e6bc-47b8b245fc26"
      },
      "source": [
        "# pd.set_option('display.max_rows', 2000)\n",
        "#Importing dataset \n",
        "dataset = pd.read_csv('Dataset/Converted/commodity.csv')\n",
        "dataset['tanggal'] = pd.to_datetime(dataset['tanggal'],format='%d/%m/%Y')\n",
        "#Drop all NaN values\n",
        "dataset = dataset.dropna(how='any',axis=0)\n",
        "print(dataset)"
      ],
      "execution_count": 3,
      "outputs": [
        {
          "output_type": "stream",
          "text": [
            "              komoditas    tanggal    harga\n",
            "0                 Beras 2016-07-25  10900.0\n",
            "1                 Beras 2016-07-26  10950.0\n",
            "2                 Beras 2016-07-27  10950.0\n",
            "3                 Beras 2016-07-28  10950.0\n",
            "4                 Beras 2016-07-29  10950.0\n",
            "...                 ...        ...      ...\n",
            "29327  Gula Pasir Lokal 2020-05-20  17500.0\n",
            "29328  Gula Pasir Lokal 2020-05-26  17650.0\n",
            "29329  Gula Pasir Lokal 2020-05-27  17650.0\n",
            "29330  Gula Pasir Lokal 2020-05-28  17650.0\n",
            "29331  Gula Pasir Lokal 2020-05-29  17650.0\n",
            "\n",
            "[29242 rows x 3 columns]\n"
          ],
          "name": "stdout"
        }
      ]
    },
    {
      "cell_type": "code",
      "metadata": {
        "id": "fqk8OF-vpTjH",
        "colab_type": "code",
        "colab": {}
      },
      "source": [
        "def get_insight(commodity_name,commodity_name_underscored,dataset):\n",
        "  print(\"-----------------------------------\")\n",
        "\n",
        "  #Get sub dataset per commodity type\n",
        "  subdataset = dataset[dataset.komoditas==commodity_name]\n",
        "  #Set index by tanggal (date)\n",
        "  subdataset = subdataset[['tanggal','harga']].set_index('tanggal')\n",
        "  #reindex\n",
        "  subdataset.index = pd.DatetimeIndex(subdataset.index)\n",
        "  subdataset.to_csv(commodity_name_underscored)\n",
        "  return subdataset\n",
        "\n"
      ],
      "execution_count": 12,
      "outputs": []
    },
    {
      "cell_type": "code",
      "metadata": {
        "id": "jBwgCLxVqSqN",
        "colab_type": "code",
        "colab": {
          "base_uri": "https://localhost:8080/",
          "height": 454
        },
        "outputId": "4ff1b3e7-5a91-42ee-9f1c-4deda8788f2f"
      },
      "source": [
        "get_insight(\"Cabai Rawit\",\"cabai_rawit.csv\",dataset)"
      ],
      "execution_count": 13,
      "outputs": [
        {
          "output_type": "stream",
          "text": [
            "-----------------------------------\n"
          ],
          "name": "stdout"
        },
        {
          "output_type": "execute_result",
          "data": {
            "text/html": [
              "<div>\n",
              "<style scoped>\n",
              "    .dataframe tbody tr th:only-of-type {\n",
              "        vertical-align: middle;\n",
              "    }\n",
              "\n",
              "    .dataframe tbody tr th {\n",
              "        vertical-align: top;\n",
              "    }\n",
              "\n",
              "    .dataframe thead th {\n",
              "        text-align: right;\n",
              "    }\n",
              "</style>\n",
              "<table border=\"1\" class=\"dataframe\">\n",
              "  <thead>\n",
              "    <tr style=\"text-align: right;\">\n",
              "      <th></th>\n",
              "      <th>harga</th>\n",
              "    </tr>\n",
              "    <tr>\n",
              "      <th>tanggal</th>\n",
              "      <th></th>\n",
              "    </tr>\n",
              "  </thead>\n",
              "  <tbody>\n",
              "    <tr>\n",
              "      <th>2016-07-25</th>\n",
              "      <td>42250.0</td>\n",
              "    </tr>\n",
              "    <tr>\n",
              "      <th>2016-07-26</th>\n",
              "      <td>44750.0</td>\n",
              "    </tr>\n",
              "    <tr>\n",
              "      <th>2016-07-27</th>\n",
              "      <td>45000.0</td>\n",
              "    </tr>\n",
              "    <tr>\n",
              "      <th>2016-07-28</th>\n",
              "      <td>44500.0</td>\n",
              "    </tr>\n",
              "    <tr>\n",
              "      <th>2016-07-29</th>\n",
              "      <td>44750.0</td>\n",
              "    </tr>\n",
              "    <tr>\n",
              "      <th>...</th>\n",
              "      <td>...</td>\n",
              "    </tr>\n",
              "    <tr>\n",
              "      <th>2020-05-20</th>\n",
              "      <td>37500.0</td>\n",
              "    </tr>\n",
              "    <tr>\n",
              "      <th>2020-05-26</th>\n",
              "      <td>39400.0</td>\n",
              "    </tr>\n",
              "    <tr>\n",
              "      <th>2020-05-27</th>\n",
              "      <td>39400.0</td>\n",
              "    </tr>\n",
              "    <tr>\n",
              "      <th>2020-05-28</th>\n",
              "      <td>39400.0</td>\n",
              "    </tr>\n",
              "    <tr>\n",
              "      <th>2020-05-29</th>\n",
              "      <td>34400.0</td>\n",
              "    </tr>\n",
              "  </tbody>\n",
              "</table>\n",
              "<p>951 rows × 1 columns</p>\n",
              "</div>"
            ],
            "text/plain": [
              "              harga\n",
              "tanggal            \n",
              "2016-07-25  42250.0\n",
              "2016-07-26  44750.0\n",
              "2016-07-27  45000.0\n",
              "2016-07-28  44500.0\n",
              "2016-07-29  44750.0\n",
              "...             ...\n",
              "2020-05-20  37500.0\n",
              "2020-05-26  39400.0\n",
              "2020-05-27  39400.0\n",
              "2020-05-28  39400.0\n",
              "2020-05-29  34400.0\n",
              "\n",
              "[951 rows x 1 columns]"
            ]
          },
          "metadata": {
            "tags": []
          },
          "execution_count": 13
        }
      ]
    }
  ]
}