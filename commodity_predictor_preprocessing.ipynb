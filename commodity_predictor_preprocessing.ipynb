{
  "nbformat": 4,
  "nbformat_minor": 0,
  "metadata": {
    "colab": {
      "name": "commodity_predictor_preprocessing.ipynb",
      "provenance": [],
      "collapsed_sections": [],
      "toc_visible": true,
      "authorship_tag": "ABX9TyOzbpW6yPlBeXFJiDY4197S",
      "include_colab_link": true
    },
    "kernelspec": {
      "name": "python3",
      "display_name": "Python 3"
    }
  },
  "cells": [
    {
      "cell_type": "markdown",
      "metadata": {
        "id": "view-in-github",
        "colab_type": "text"
      },
      "source": [
        "<a href=\"https://colab.research.google.com/github/ferdinand-lanvino/commodity-predictor/blob/master/commodity_predictor_preprocessing.ipynb\" target=\"_parent\"><img src=\"https://colab.research.google.com/assets/colab-badge.svg\" alt=\"Open In Colab\"/></a>"
      ]
    },
    {
      "cell_type": "code",
      "metadata": {
        "id": "zlPoJK7SozQe",
        "colab_type": "code",
        "colab": {
          "base_uri": "https://localhost:8080/",
          "height": 238
        },
        "outputId": "ff10e097-d67a-4ace-ba7e-837cd113d1f5"
      },
      "source": [
        "# Clone commodity-predictor repo.\n",
        "!git clone -l -s git://github.com/ferdinand-lanvino/commodity-predictor.git\n",
        "%cd commodity-predictor\n",
        "!ls"
      ],
      "execution_count": 1,
      "outputs": [
        {
          "output_type": "stream",
          "text": [
            "Cloning into 'commodity-predictor'...\n",
            "warning: --local is ignored\n",
            "remote: Enumerating objects: 168, done.\u001b[K\n",
            "remote: Counting objects:   0% (1/168)\u001b[K\rremote: Counting objects:   1% (2/168)\u001b[K\rremote: Counting objects:   2% (4/168)\u001b[K\rremote: Counting objects:   3% (6/168)\u001b[K\rremote: Counting objects:   4% (7/168)\u001b[K\rremote: Counting objects:   5% (9/168)\u001b[K\rremote: Counting objects:   6% (11/168)\u001b[K\rremote: Counting objects:   7% (12/168)\u001b[K\rremote: Counting objects:   8% (14/168)\u001b[K\rremote: Counting objects:   9% (16/168)\u001b[K\rremote: Counting objects:  10% (17/168)\u001b[K\rremote: Counting objects:  11% (19/168)\u001b[K\rremote: Counting objects:  12% (21/168)\u001b[K\rremote: Counting objects:  13% (22/168)\u001b[K\rremote: Counting objects:  14% (24/168)\u001b[K\rremote: Counting objects:  15% (26/168)\u001b[K\rremote: Counting objects:  16% (27/168)\u001b[K\rremote: Counting objects:  17% (29/168)\u001b[K\rremote: Counting objects:  18% (31/168)\u001b[K\rremote: Counting objects:  19% (32/168)\u001b[K\rremote: Counting objects:  20% (34/168)\u001b[K\rremote: Counting objects:  21% (36/168)\u001b[K\rremote: Counting objects:  22% (37/168)\u001b[K\rremote: Counting objects:  23% (39/168)\u001b[K\rremote: Counting objects:  24% (41/168)\u001b[K\rremote: Counting objects:  25% (42/168)\u001b[K\rremote: Counting objects:  26% (44/168)\u001b[K\rremote: Counting objects:  27% (46/168)\u001b[K\rremote: Counting objects:  28% (48/168)\u001b[K\rremote: Counting objects:  29% (49/168)\u001b[K\rremote: Counting objects:  30% (51/168)\u001b[K\rremote: Counting objects:  31% (53/168)\u001b[K\rremote: Counting objects:  32% (54/168)\u001b[K\rremote: Counting objects:  33% (56/168)\u001b[K\rremote: Counting objects:  34% (58/168)\u001b[K\rremote: Counting objects:  35% (59/168)\u001b[K\rremote: Counting objects:  36% (61/168)\u001b[K\rremote: Counting objects:  37% (63/168)\u001b[K\rremote: Counting objects:  38% (64/168)\u001b[K\rremote: Counting objects:  39% (66/168)\u001b[K\rremote: Counting objects:  40% (68/168)\u001b[K\rremote: Counting objects:  41% (69/168)\u001b[K\rremote: Counting objects:  42% (71/168)\u001b[K\rremote: Counting objects:  43% (73/168)\u001b[K\rremote: Counting objects:  44% (74/168)\u001b[K\rremote: Counting objects:  45% (76/168)\u001b[K\rremote: Counting objects:  46% (78/168)\u001b[K\rremote: Counting objects:  47% (79/168)\u001b[K\rremote: Counting objects:  48% (81/168)\u001b[K\rremote: Counting objects:  49% (83/168)\u001b[K\rremote: Counting objects:  50% (84/168)\u001b[K\rremote: Counting objects:  51% (86/168)\u001b[K\rremote: Counting objects:  52% (88/168)\u001b[K\rremote: Counting objects:  53% (90/168)\u001b[K\rremote: Counting objects:  54% (91/168)\u001b[K\rremote: Counting objects:  55% (93/168)\u001b[K\rremote: Counting objects:  56% (95/168)\u001b[K\rremote: Counting objects:  57% (96/168)\u001b[K\rremote: Counting objects:  58% (98/168)\u001b[K\rremote: Counting objects:  59% (100/168)\u001b[K\rremote: Counting objects:  60% (101/168)\u001b[K\rremote: Counting objects:  61% (103/168)\u001b[K\rremote: Counting objects:  62% (105/168)\u001b[K\rremote: Counting objects:  63% (106/168)\u001b[K\rremote: Counting objects:  64% (108/168)\u001b[K\rremote: Counting objects:  65% (110/168)\u001b[K\rremote: Counting objects:  66% (111/168)\u001b[K\rremote: Counting objects:  67% (113/168)\u001b[K\rremote: Counting objects:  68% (115/168)\u001b[K\rremote: Counting objects:  69% (116/168)\u001b[K\rremote: Counting objects:  70% (118/168)\u001b[K\rremote: Counting objects:  71% (120/168)\u001b[K\rremote: Counting objects:  72% (121/168)\u001b[K\rremote: Counting objects:  73% (123/168)\u001b[K\rremote: Counting objects:  74% (125/168)\u001b[K\rremote: Counting objects:  75% (126/168)\u001b[K\rremote: Counting objects:  76% (128/168)\u001b[K\rremote: Counting objects:  77% (130/168)\u001b[K\rremote: Counting objects:  78% (132/168)\u001b[K\rremote: Counting objects:  79% (133/168)\u001b[K\rremote: Counting objects:  80% (135/168)\u001b[K\rremote: Counting objects:  81% (137/168)\u001b[K\rremote: Counting objects:  82% (138/168)\u001b[K\rremote: Counting objects:  83% (140/168)\u001b[K\rremote: Counting objects:  84% (142/168)\u001b[K\rremote: Counting objects:  85% (143/168)\u001b[K\rremote: Counting objects:  86% (145/168)\u001b[K\rremote: Counting objects:  87% (147/168)\u001b[K\rremote: Counting objects:  88% (148/168)\u001b[K\rremote: Counting objects:  89% (150/168)\u001b[K\rremote: Counting objects:  90% (152/168)\u001b[K\rremote: Counting objects:  91% (153/168)\u001b[K\rremote: Counting objects:  92% (155/168)\u001b[K\rremote: Counting objects:  93% (157/168)\u001b[K\rremote: Counting objects:  94% (158/168)\u001b[K\rremote: Counting objects:  95% (160/168)\u001b[K\rremote: Counting objects:  96% (162/168)\u001b[K\rremote: Counting objects:  97% (163/168)\u001b[K\rremote: Counting objects:  98% (165/168)\u001b[K\rremote: Counting objects:  99% (167/168)\u001b[K\rremote: Counting objects: 100% (168/168)\u001b[K\rremote: Counting objects: 100% (168/168), done.\u001b[K\n",
            "remote: Compressing objects: 100% (141/141), done.\u001b[K\n",
            "remote: Total 168 (delta 64), reused 79 (delta 19), pack-reused 0\u001b[K\n",
            "Receiving objects: 100% (168/168), 2.03 MiB | 1.45 MiB/s, done.\n",
            "Resolving deltas: 100% (64/64), done.\n",
            "/content/commodity-predictor\n",
            "commodity_predictor_preprocessing.ipynb  Dataset\n",
            "commodity_predictor_research.ipynb\t lstm\n",
            "commodity-price-predictor.ipynb\t\t README.md\n",
            "commodity_price_predictor_lstm.ipynb\n"
          ],
          "name": "stdout"
        }
      ]
    },
    {
      "cell_type": "code",
      "metadata": {
        "id": "HB-ItDP0pEd6",
        "colab_type": "code",
        "colab": {
          "base_uri": "https://localhost:8080/",
          "height": 71
        },
        "outputId": "17620eee-5c1a-4067-d93d-994cff6bd44e"
      },
      "source": [
        "# Importing the libraries\n",
        "import numpy as np\n",
        "import matplotlib.pyplot as plt\n",
        "plt.style.use('fivethirtyeight')\n",
        "import pandas as pd\n",
        "import pandas_datareader as web\n",
        "import math\n",
        "from sklearn.metrics import mean_squared_error\n",
        "from matplotlib.pylab import rcParams\n",
        "rcParams['figure.figsize'] = 14, 9"
      ],
      "execution_count": 2,
      "outputs": [
        {
          "output_type": "stream",
          "text": [
            "/usr/local/lib/python3.6/dist-packages/pandas_datareader/compat/__init__.py:7: FutureWarning: pandas.util.testing is deprecated. Use the functions in the public API at pandas.testing instead.\n",
            "  from pandas.util.testing import assert_frame_equal\n"
          ],
          "name": "stderr"
        }
      ]
    },
    {
      "cell_type": "code",
      "metadata": {
        "id": "Rmf_tMw5pH77",
        "colab_type": "code",
        "colab": {
          "base_uri": "https://localhost:8080/",
          "height": 255
        },
        "outputId": "1aca063c-a084-4d75-e0da-ee6af4a2de49"
      },
      "source": [
        "# pd.set_option('display.max_rows', 2000)\n",
        "#Importing dataset \n",
        "dataset = pd.read_csv('Dataset/Converted/commodity.csv')\n",
        "dataset['tanggal'] = pd.to_datetime(dataset['tanggal'],format='%d/%m/%Y')\n",
        "#Drop all NaN values\n",
        "dataset = dataset.dropna(how='any',axis=0)\n",
        "print(dataset)"
      ],
      "execution_count": 20,
      "outputs": [
        {
          "output_type": "stream",
          "text": [
            "              komoditas    tanggal    harga\n",
            "0                 Beras 2016-07-25  10900.0\n",
            "1                 Beras 2016-07-26  10950.0\n",
            "2                 Beras 2016-07-27  10950.0\n",
            "3                 Beras 2016-07-28  10950.0\n",
            "4                 Beras 2016-07-29  10950.0\n",
            "...                 ...        ...      ...\n",
            "29327  Gula Pasir Lokal 2020-05-20  17500.0\n",
            "29328  Gula Pasir Lokal 2020-05-26  17650.0\n",
            "29329  Gula Pasir Lokal 2020-05-27  17650.0\n",
            "29330  Gula Pasir Lokal 2020-05-28  17650.0\n",
            "29331  Gula Pasir Lokal 2020-05-29  17650.0\n",
            "\n",
            "[29242 rows x 3 columns]\n"
          ],
          "name": "stdout"
        }
      ]
    },
    {
      "cell_type": "code",
      "metadata": {
        "id": "fqk8OF-vpTjH",
        "colab_type": "code",
        "colab": {}
      },
      "source": [
        "def extract_to_csv(dataset):\n",
        "  nama_komoditas = dataset.komoditas.unique()\n",
        "  for km in nama_komoditas:\n",
        "    #Get sub dataset per commodity type\n",
        "    subdataset = dataset[dataset.komoditas==km]\n",
        "    #Set index by tanggal (date)\n",
        "    subdataset = subdataset[['tanggal','harga']].set_index('tanggal')\n",
        "    #reindex\n",
        "    subdataset.index = pd.DatetimeIndex(subdataset.index)\n",
        "    km = km.replace(\" \", \"_\")\n",
        "    km = km.lower()\n",
        "    subdataset.to_csv(km+\".csv\")\n"
      ],
      "execution_count": 4,
      "outputs": []
    },
    {
      "cell_type": "code",
      "metadata": {
        "id": "jBwgCLxVqSqN",
        "colab_type": "code",
        "colab": {}
      },
      "source": [
        "extract_to_csv(dataset)"
      ],
      "execution_count": 5,
      "outputs": []
    },
    {
      "cell_type": "code",
      "metadata": {
        "id": "aYtF-hgci8I3",
        "colab_type": "code",
        "colab": {}
      },
      "source": [
        "def extract_to_csv_imputed(dataset):\n",
        "  nama_komoditas = dataset.komoditas.unique()\n",
        "  for km in nama_komoditas:\n",
        "    #Get sub dataset per commodity type\n",
        "    subdataset = dataset[dataset.komoditas==km]\n",
        "    #Set index by tanggal (date)\n",
        "    subdataset = subdataset[['tanggal','harga']].set_index('tanggal')\n",
        "    #reindex\n",
        "    subdataset.index = pd.DatetimeIndex(subdataset.index)\n",
        "    subdataset_imputed = subdataset.asfreq('D')\n",
        "    #filling NaN values with LOCF (Last Observation Carried Forward) algorithm using method Forward Fill\n",
        "    subdataset_imputed['harga-imputed'] = subdataset.asfreq('D', method='ffill')\n",
        "    subdataset_imputed = subdataset_imputed.drop(['harga'], axis = 1) \n",
        "    km = km.replace(\" \", \"_\")\n",
        "    km = km.lower()\n",
        "    subdataset_imputed.to_csv(km+\"_imputed.csv\")"
      ],
      "execution_count": 21,
      "outputs": []
    },
    {
      "cell_type": "code",
      "metadata": {
        "id": "gklv4z4vjqZ5",
        "colab_type": "code",
        "colab": {}
      },
      "source": [
        "extract_to_csv_imputed(dataset)"
      ],
      "execution_count": 22,
      "outputs": []
    }
  ]
}