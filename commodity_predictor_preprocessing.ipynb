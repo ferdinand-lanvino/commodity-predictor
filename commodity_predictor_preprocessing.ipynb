{
  "nbformat": 4,
  "nbformat_minor": 0,
  "metadata": {
    "colab": {
      "name": "commodity_predictor_preprocessing.ipynb",
      "provenance": [],
      "collapsed_sections": [],
      "authorship_tag": "ABX9TyMNKXSxTGP6AAT0mP3sqs97",
      "include_colab_link": true
    },
    "kernelspec": {
      "name": "python3",
      "display_name": "Python 3"
    }
  },
  "cells": [
    {
      "cell_type": "markdown",
      "metadata": {
        "id": "view-in-github",
        "colab_type": "text"
      },
      "source": [
        "<a href=\"https://colab.research.google.com/github/ferdinand-lanvino/commodity-predictor/blob/master/commodity_predictor_preprocessing.ipynb\" target=\"_parent\"><img src=\"https://colab.research.google.com/assets/colab-badge.svg\" alt=\"Open In Colab\"/></a>"
      ]
    },
    {
      "cell_type": "code",
      "metadata": {
        "id": "zlPoJK7SozQe",
        "colab_type": "code",
        "colab": {
          "base_uri": "https://localhost:8080/",
          "height": 228
        },
        "outputId": "32493149-b285-41c0-8631-f21357bb239a"
      },
      "source": [
        "# Clone commodity-predictor repo.\n",
        "!git clone -l -s git://github.com/ferdinand-lanvino/commodity-predictor.git\n",
        "%cd commodity-predictor\n",
        "!ls"
      ],
      "execution_count": 8,
      "outputs": [
        {
          "output_type": "stream",
          "text": [
            "Cloning into 'commodity-predictor'...\n",
            "warning: --local is ignored\n",
            "remote: Enumerating objects: 165, done.\u001b[K\n",
            "remote: Counting objects:   0% (1/165)\u001b[K\rremote: Counting objects:   1% (2/165)\u001b[K\rremote: Counting objects:   2% (4/165)\u001b[K\rremote: Counting objects:   3% (5/165)\u001b[K\rremote: Counting objects:   4% (7/165)\u001b[K\rremote: Counting objects:   5% (9/165)\u001b[K\rremote: Counting objects:   6% (10/165)\u001b[K\rremote: Counting objects:   7% (12/165)\u001b[K\rremote: Counting objects:   8% (14/165)\u001b[K\rremote: Counting objects:   9% (15/165)\u001b[K\rremote: Counting objects:  10% (17/165)\u001b[K\rremote: Counting objects:  11% (19/165)\u001b[K\rremote: Counting objects:  12% (20/165)\u001b[K\rremote: Counting objects:  13% (22/165)\u001b[K\rremote: Counting objects:  14% (24/165)\u001b[K\rremote: Counting objects:  15% (25/165)\u001b[K\rremote: Counting objects:  16% (27/165)\u001b[K\rremote: Counting objects:  17% (29/165)\u001b[K\rremote: Counting objects:  18% (30/165)\u001b[K\rremote: Counting objects:  19% (32/165)\u001b[K\rremote: Counting objects:  20% (33/165)\u001b[K\rremote: Counting objects:  21% (35/165)\u001b[K\rremote: Counting objects:  22% (37/165)\u001b[K\rremote: Counting objects:  23% (38/165)\u001b[K\rremote: Counting objects:  24% (40/165)\u001b[K\rremote: Counting objects:  25% (42/165)\u001b[K\rremote: Counting objects:  26% (43/165)\u001b[K\rremote: Counting objects:  27% (45/165)\u001b[K\rremote: Counting objects:  28% (47/165)\u001b[K\rremote: Counting objects:  29% (48/165)\u001b[K\rremote: Counting objects:  30% (50/165)\u001b[K\rremote: Counting objects:  31% (52/165)\u001b[K\rremote: Counting objects:  32% (53/165)\u001b[K\rremote: Counting objects:  33% (55/165)\u001b[K\rremote: Counting objects:  34% (57/165)\u001b[K\rremote: Counting objects:  35% (58/165)\u001b[K\rremote: Counting objects:  36% (60/165)\u001b[K\rremote: Counting objects:  37% (62/165)\u001b[K\rremote: Counting objects:  38% (63/165)\u001b[K\rremote: Counting objects:  39% (65/165)\u001b[K\rremote: Counting objects:  40% (66/165)\u001b[K\rremote: Counting objects:  41% (68/165)\u001b[K\rremote: Counting objects:  42% (70/165)\u001b[K\rremote: Counting objects:  43% (71/165)\u001b[K\rremote: Counting objects:  44% (73/165)\u001b[K\rremote: Counting objects:  45% (75/165)\u001b[K\rremote: Counting objects:  46% (76/165)\u001b[K\rremote: Counting objects:  47% (78/165)\u001b[K\rremote: Counting objects:  48% (80/165)\u001b[K\rremote: Counting objects:  49% (81/165)\u001b[K\rremote: Counting objects:  50% (83/165)\u001b[K\rremote: Counting objects:  51% (85/165)\u001b[K\rremote: Counting objects:  52% (86/165)\u001b[K\rremote: Counting objects:  53% (88/165)\u001b[K\rremote: Counting objects:  54% (90/165)\u001b[K\rremote: Counting objects:  55% (91/165)\u001b[K\rremote: Counting objects:  56% (93/165)\u001b[K\rremote: Counting objects:  57% (95/165)\u001b[K\rremote: Counting objects:  58% (96/165)\u001b[K\rremote: Counting objects:  59% (98/165)\u001b[K\rremote: Counting objects:  60% (99/165)\u001b[K\rremote: Counting objects:  61% (101/165)\rremote: Counting objects:  62% (103/165)\u001b[K\rremote: Counting objects:  63% (104/165)\u001b[K\rremote: Counting objects:  64% (106/165)\u001b[K\rremote: Counting objects:  65% (108/165)\u001b[K\rremote: Counting objects:  66% (109/165)\u001b[K\rremote: Counting objects:  67% (111/165)\u001b[K\rremote: Counting objects:  68% (113/165)\u001b[K\rremote: Counting objects:  69% (114/165)\u001b[K\rremote: Counting objects:  70% (116/165)\u001b[K\rremote: Counting objects:  71% (118/165)\u001b[K\rremote: Counting objects:  72% (119/165)\u001b[K\rremote: Counting objects:  73% (121/165)\u001b[K\rremote: Counting objects:  74% (123/165)\u001b[K\rremote: Counting objects:  75% (124/165)\u001b[K\rremote: Counting objects:  76% (126/165)\u001b[K\rremote: Counting objects:  77% (128/165)\u001b[K\rremote: Counting objects:  78% (129/165)\u001b[K\rremote: Counting objects:  79% (131/165)\u001b[K\rremote: Counting objects:  80% (132/165)\u001b[K\rremote: Counting objects:  81% (134/165)\u001b[K\rremote: Counting objects:  82% (136/165)\u001b[K\rremote: Counting objects:  83% (137/165)\u001b[K\rremote: Counting objects:  84% (139/165)\u001b[K\rremote: Counting objects:  85% (141/165)\u001b[K\rremote: Counting objects:  86% (142/165)\u001b[K\rremote: Counting objects:  87% (144/165)\u001b[K\rremote: Counting objects:  88% (146/165)\u001b[K\rremote: Counting objects:  89% (147/165)\u001b[K\rremote: Counting objects:  90% (149/165)\u001b[K\rremote: Counting objects:  91% (151/165)\u001b[K\rremote: Counting objects:  92% (152/165)\u001b[K\rremote: Counting objects:  93% (154/165)\u001b[K\rremote: Counting objects:  94% (156/165)\u001b[K\rremote: Counting objects:  95% (157/165)\u001b[K\rremote: Counting objects:  96% (159/165)\u001b[K\rremote: Counting objects:  97% (161/165)\u001b[K\rremote: Counting objects:  98% (162/165)\u001b[K\rremote: Counting objects:  99% (164/165)\u001b[K\rremote: Counting objects: 100% (165/165)\u001b[K\rremote: Counting objects: 100% (165/165), done.\u001b[K\n",
            "remote: Compressing objects:   0% (1/138)\u001b[K\rremote: Compressing objects:   1% (2/138)\u001b[K\rremote: Compressing objects:   2% (3/138)\u001b[K\rremote: Compressing objects:   3% (5/138)\u001b[K\rremote: Compressing objects:   4% (6/138)\u001b[K\rremote: Compressing objects:   5% (7/138)\u001b[K\rremote: Compressing objects:   6% (9/138)\u001b[K\rremote: Compressing objects:   7% (10/138)\u001b[K\rremote: Compressing objects:   8% (12/138)\u001b[K\rremote: Compressing objects:   9% (13/138)\u001b[K\rremote: Compressing objects:  10% (14/138)\u001b[K\rremote: Compressing objects:  11% (16/138)\u001b[K\rremote: Compressing objects:  12% (17/138)\u001b[K\rremote: Compressing objects:  13% (18/138)\u001b[K\rremote: Compressing objects:  14% (20/138)\u001b[K\rremote: Compressing objects:  15% (21/138)\u001b[K\rremote: Compressing objects:  16% (23/138)\u001b[K\rremote: Compressing objects:  17% (24/138)\u001b[K\rremote: Compressing objects:  18% (25/138)\u001b[K\rremote: Compressing objects:  19% (27/138)\u001b[K\rremote: Compressing objects:  20% (28/138)\u001b[K\rremote: Compressing objects:  21% (29/138)\u001b[K\rremote: Compressing objects:  22% (31/138)\u001b[K\rremote: Compressing objects:  23% (32/138)\u001b[K\rremote: Compressing objects:  24% (34/138)\u001b[K\rremote: Compressing objects:  25% (35/138)\u001b[K\rremote: Compressing objects:  26% (36/138)\u001b[K\rremote: Compressing objects:  27% (38/138)\u001b[K\rremote: Compressing objects:  28% (39/138)\u001b[K\rremote: Compressing objects:  29% (41/138)\u001b[K\rremote: Compressing objects:  30% (42/138)\u001b[K\rremote: Compressing objects:  31% (43/138)\u001b[K\rremote: Compressing objects:  32% (45/138)\u001b[K\rremote: Compressing objects:  33% (46/138)\u001b[K\rremote: Compressing objects:  34% (47/138)\u001b[K\rremote: Compressing objects:  35% (49/138)\u001b[K\rremote: Compressing objects:  36% (50/138)\u001b[K\rremote: Compressing objects:  37% (52/138)\u001b[K\rremote: Compressing objects:  38% (53/138)\u001b[K\rremote: Compressing objects:  39% (54/138)\u001b[K\rremote: Compressing objects:  40% (56/138)\u001b[K\rremote: Compressing objects:  41% (57/138)\u001b[K\rremote: Compressing objects:  42% (58/138)\u001b[K\rremote: Compressing objects:  43% (60/138)\u001b[K\rremote: Compressing objects:  44% (61/138)\u001b[K\rremote: Compressing objects:  45% (63/138)\u001b[K\rremote: Compressing objects:  46% (64/138)\u001b[K\rremote: Compressing objects:  47% (65/138)\u001b[K\rremote: Compressing objects:  48% (67/138)\u001b[K\rremote: Compressing objects:  49% (68/138)\u001b[K\rremote: Compressing objects:  50% (69/138)\u001b[K\rremote: Compressing objects:  51% (71/138)\u001b[K\rremote: Compressing objects:  52% (72/138)\u001b[K\rremote: Compressing objects:  53% (74/138)\u001b[K\rremote: Compressing objects:  54% (75/138)\u001b[K\rremote: Compressing objects:  55% (76/138)\u001b[K\rremote: Compressing objects:  56% (78/138)\u001b[K\rremote: Compressing objects:  57% (79/138)\u001b[K\rremote: Compressing objects:  58% (81/138)\u001b[K\rremote: Compressing objects:  59% (82/138)\u001b[K\rremote: Compressing objects:  60% (83/138)\u001b[K\rremote: Compressing objects:  61% (85/138)\u001b[K\rremote: Compressing objects:  62% (86/138)\u001b[K\rremote: Compressing objects:  63% (87/138)\u001b[K\rremote: Compressing objects:  64% (89/138)\u001b[K\rremote: Compressing objects:  65% (90/138)\u001b[K\rremote: Compressing objects:  66% (92/138)\u001b[K\rremote: Compressing objects:  67% (93/138)\u001b[K\rremote: Compressing objects:  68% (94/138)\u001b[K\rremote: Compressing objects:  69% (96/138)\u001b[K\rremote: Compressing objects:  70% (97/138)\u001b[K\rremote: Compressing objects:  71% (98/138)\u001b[K\rremote: Compressing objects:  72% (100/138)\u001b[K\rremote: Compressing objects:  73% (101/138)\u001b[K\rremote: Compressing objects:  74% (103/138)\u001b[K\rremote: Compressing objects:  75% (104/138)\u001b[K\rremote: Compressing objects:  76% (105/138)\u001b[K\rremote: Compressing objects:  77% (107/138)\u001b[K\rremote: Compressing objects:  78% (108/138)\u001b[K\rremote: Compressing objects:  79% (110/138)\u001b[K\rremote: Compressing objects:  80% (111/138)\u001b[K\rremote: Compressing objects:  81% (112/138)\u001b[K\rremote: Compressing objects:  82% (114/138)\u001b[K\rremote: Compressing objects:  83% (115/138)\u001b[K\rremote: Compressing objects:  84% (116/138)\u001b[K\rremote: Compressing objects:  85% (118/138)\u001b[K\rremote: Compressing objects:  86% (119/138)\u001b[K\rremote: Compressing objects:  87% (121/138)\u001b[K\rremote: Compressing objects:  88% (122/138)\u001b[K\rremote: Compressing objects:  89% (123/138)\u001b[K\rremote: Compressing objects:  90% (125/138)\u001b[K\rremote: Compressing objects:  91% (126/138)\u001b[K\rremote: Compressing objects:  92% (127/138)\u001b[K\rremote: Compressing objects:  93% (129/138)\u001b[K\rremote: Compressing objects:  94% (130/138)\u001b[K\rremote: Compressing objects:  95% (132/138)\u001b[K\rremote: Compressing objects:  96% (133/138)\u001b[K\rremote: Compressing objects:  97% (134/138)\u001b[K\rremote: Compressing objects:  98% (136/138)\u001b[K\rremote: Compressing objects:  99% (137/138)\u001b[K\rremote: Compressing objects: 100% (138/138)\u001b[K\rremote: Compressing objects: 100% (138/138), done.\u001b[K\n",
            "Receiving objects:   0% (1/165)   \rReceiving objects:   1% (2/165)   \rReceiving objects:   2% (4/165)   \rReceiving objects:   3% (5/165)   \rReceiving objects:   4% (7/165)   \rReceiving objects:   5% (9/165)   \rReceiving objects:   6% (10/165)   \rReceiving objects:   7% (12/165)   \rReceiving objects:   8% (14/165)   \rReceiving objects:   9% (15/165)   \rReceiving objects:  10% (17/165)   \rReceiving objects:  11% (19/165)   \rReceiving objects:  12% (20/165)   \rReceiving objects:  13% (22/165)   \rReceiving objects:  14% (24/165)   \rReceiving objects:  15% (25/165)   \rReceiving objects:  16% (27/165)   \rReceiving objects:  17% (29/165)   \rReceiving objects:  18% (30/165)   \rReceiving objects:  19% (32/165)   \rReceiving objects:  20% (33/165)   \rReceiving objects:  21% (35/165)   \rReceiving objects:  22% (37/165)   \rReceiving objects:  23% (38/165)   \rReceiving objects:  24% (40/165)   \rReceiving objects:  25% (42/165)   \rReceiving objects:  26% (43/165)   \rReceiving objects:  27% (45/165)   \rReceiving objects:  28% (47/165)   \rReceiving objects:  29% (48/165)   \rReceiving objects:  30% (50/165)   \rReceiving objects:  31% (52/165)   \rReceiving objects:  32% (53/165)   \rReceiving objects:  33% (55/165)   \rReceiving objects:  34% (57/165)   \rReceiving objects:  35% (58/165)   \rReceiving objects:  36% (60/165)   \rReceiving objects:  37% (62/165)   \rReceiving objects:  38% (63/165)   \rReceiving objects:  39% (65/165)   \rReceiving objects:  40% (66/165)   \rReceiving objects:  41% (68/165)   \rReceiving objects:  42% (70/165)   \rReceiving objects:  43% (71/165)   \rReceiving objects:  44% (73/165)   \rReceiving objects:  45% (75/165)   \rReceiving objects:  46% (76/165)   \rReceiving objects:  47% (78/165)   \rReceiving objects:  48% (80/165)   \rReceiving objects:  49% (81/165)   \rReceiving objects:  50% (83/165)   \rReceiving objects:  51% (85/165)   \rReceiving objects:  52% (86/165)   \rReceiving objects:  53% (88/165)   \rReceiving objects:  54% (90/165)   \rReceiving objects:  55% (91/165)   \rReceiving objects:  56% (93/165)   \rReceiving objects:  57% (95/165)   \rReceiving objects:  58% (96/165)   \rReceiving objects:  59% (98/165)   \rReceiving objects:  60% (99/165)   \rReceiving objects:  61% (101/165)   \rReceiving objects:  62% (103/165)   \rReceiving objects:  63% (104/165)   \rReceiving objects:  64% (106/165)   \rReceiving objects:  65% (108/165)   \rReceiving objects:  66% (109/165)   \rReceiving objects:  67% (111/165)   \rReceiving objects:  68% (113/165)   \rReceiving objects:  69% (114/165)   \rReceiving objects:  70% (116/165)   \rReceiving objects:  71% (118/165)   \rReceiving objects:  72% (119/165)   \rReceiving objects:  73% (121/165)   \rReceiving objects:  74% (123/165)   \rReceiving objects:  75% (124/165)   \rReceiving objects:  76% (126/165)   \rReceiving objects:  77% (128/165)   \rReceiving objects:  78% (129/165)   \rReceiving objects:  79% (131/165)   \rReceiving objects:  80% (132/165)   \rReceiving objects:  81% (134/165)   \rReceiving objects:  82% (136/165)   \rReceiving objects:  83% (137/165)   \rReceiving objects:  84% (139/165)   \rReceiving objects:  85% (141/165)   \rReceiving objects:  86% (142/165)   \rReceiving objects:  87% (144/165)   \rReceiving objects:  88% (146/165)   \rReceiving objects:  89% (147/165)   \rReceiving objects:  90% (149/165)   \rremote: Total 165 (delta 62), reused 79 (delta 19), pack-reused 0\u001b[K\n",
            "Receiving objects:  91% (151/165)   \rReceiving objects:  92% (152/165)   \rReceiving objects:  93% (154/165)   \rReceiving objects:  94% (156/165)   \rReceiving objects:  95% (157/165)   \rReceiving objects:  96% (159/165)   \rReceiving objects:  97% (161/165)   \rReceiving objects:  98% (162/165)   \rReceiving objects:  99% (164/165)   \rReceiving objects: 100% (165/165)   \rReceiving objects: 100% (165/165), 2.03 MiB | 13.04 MiB/s, done.\n",
            "Resolving deltas:   0% (0/62)   \rResolving deltas:   1% (1/62)   \rResolving deltas:   3% (2/62)   \rResolving deltas:   4% (3/62)   \rResolving deltas:  20% (13/62)   \rResolving deltas:  22% (14/62)   \rResolving deltas:  24% (15/62)   \rResolving deltas:  25% (16/62)   \rResolving deltas:  32% (20/62)   \rResolving deltas:  48% (30/62)   \rResolving deltas:  51% (32/62)   \rResolving deltas:  61% (38/62)   \rResolving deltas:  64% (40/62)   \rResolving deltas:  66% (41/62)   \rResolving deltas:  70% (44/62)   \rResolving deltas:  79% (49/62)   \rResolving deltas:  83% (52/62)   \rResolving deltas:  91% (57/62)   \rResolving deltas:  95% (59/62)   \rResolving deltas:  96% (60/62)   \rResolving deltas: 100% (62/62)   \rResolving deltas: 100% (62/62), done.\n",
            "/content/commodity-predictor/commodity-predictor\n",
            "commodity_predictor_preprocessing.ipynb  Dataset\n",
            "commodity_predictor_research.ipynb\t lstm\n",
            "commodity-price-predictor.ipynb\t\t README.md\n",
            "commodity_price_predictor_lstm.ipynb\n"
          ],
          "name": "stdout"
        }
      ]
    },
    {
      "cell_type": "code",
      "metadata": {
        "id": "HB-ItDP0pEd6",
        "colab_type": "code",
        "colab": {}
      },
      "source": [
        "# Importing the libraries\n",
        "import numpy as np\n",
        "import matplotlib.pyplot as plt\n",
        "plt.style.use('fivethirtyeight')\n",
        "import pandas as pd\n",
        "import pandas_datareader as web\n",
        "import math\n",
        "from sklearn.metrics import mean_squared_error\n",
        "from matplotlib.pylab import rcParams\n",
        "rcParams['figure.figsize'] = 14, 9"
      ],
      "execution_count": 9,
      "outputs": []
    },
    {
      "cell_type": "code",
      "metadata": {
        "id": "Rmf_tMw5pH77",
        "colab_type": "code",
        "colab": {
          "base_uri": "https://localhost:8080/",
          "height": 245
        },
        "outputId": "8e43606a-8120-414d-e51c-0ccf890b6388"
      },
      "source": [
        "# pd.set_option('display.max_rows', 2000)\n",
        "#Importing dataset \n",
        "dataset = pd.read_csv('Dataset/Converted/commodity.csv')\n",
        "dataset['tanggal'] = pd.to_datetime(dataset['tanggal'],format='%d/%m/%Y')\n",
        "#Drop all NaN values\n",
        "dataset = dataset.dropna(how='any',axis=0)\n",
        "print(dataset)"
      ],
      "execution_count": 3,
      "outputs": [
        {
          "output_type": "stream",
          "text": [
            "              komoditas    tanggal    harga\n",
            "0                 Beras 2016-07-25  10900.0\n",
            "1                 Beras 2016-07-26  10950.0\n",
            "2                 Beras 2016-07-27  10950.0\n",
            "3                 Beras 2016-07-28  10950.0\n",
            "4                 Beras 2016-07-29  10950.0\n",
            "...                 ...        ...      ...\n",
            "29327  Gula Pasir Lokal 2020-05-20  17500.0\n",
            "29328  Gula Pasir Lokal 2020-05-26  17650.0\n",
            "29329  Gula Pasir Lokal 2020-05-27  17650.0\n",
            "29330  Gula Pasir Lokal 2020-05-28  17650.0\n",
            "29331  Gula Pasir Lokal 2020-05-29  17650.0\n",
            "\n",
            "[29242 rows x 3 columns]\n"
          ],
          "name": "stdout"
        }
      ]
    },
    {
      "cell_type": "code",
      "metadata": {
        "id": "fqk8OF-vpTjH",
        "colab_type": "code",
        "colab": {}
      },
      "source": [
        "def extract_to_csv(dataset):\n",
        "  nama_komoditas = dataset.komoditas.unique()\n",
        "  for km in nama_komoditas:\n",
        "    #Get sub dataset per commodity type\n",
        "    subdataset = dataset[dataset.komoditas==km]\n",
        "    #Set index by tanggal (date)\n",
        "    subdataset = subdataset[['tanggal','harga']].set_index('tanggal')\n",
        "    #reindex\n",
        "    subdataset.index = pd.DatetimeIndex(subdataset.index)\n",
        "    km = km.replace(\" \", \"_\")\n",
        "    km = km.lower()\n",
        "    subdataset.to_csv(km+\".csv\")\n"
      ],
      "execution_count": 10,
      "outputs": []
    },
    {
      "cell_type": "code",
      "metadata": {
        "id": "jBwgCLxVqSqN",
        "colab_type": "code",
        "colab": {}
      },
      "source": [
        "extract_to_csv(dataset)"
      ],
      "execution_count": 13,
      "outputs": []
    },
    {
      "cell_type": "code",
      "metadata": {
        "id": "aYtF-hgci8I3",
        "colab_type": "code",
        "colab": {}
      },
      "source": [
        "def extract_to_csv_imputed(dataset):\n",
        "  nama_komoditas = dataset.komoditas.unique()\n",
        "  for km in nama_komoditas:\n",
        "    #Get sub dataset per commodity type\n",
        "    subdataset = dataset[dataset.komoditas==km]\n",
        "    #Set index by tanggal (date)\n",
        "    subdataset = subdataset[['tanggal','harga']].set_index('tanggal')\n",
        "    #reindex\n",
        "    subdataset.index = pd.DatetimeIndex(subdataset.index)\n",
        "    subdataset_imputed = subdataset.asfreq('D')\n",
        "    #filling NaN values with LOCF (Last Observation Carried Forward) algorithm using method Forward Fill\n",
        "    subdataset_imputed['harga-imputed'] = subdataset.asfreq('D', method='ffill')\n",
        "    subdataset_imputed = subdataset_imputed.drop(['harga'], axis = 1) \n",
        "    df.columns = ['tanggal', 'harga']\n",
        "    km = km.replace(\" \", \"_\")\n",
        "    km = km.lower()\n",
        "    subdataset_imputed.to_csv(km+\"_imputed.csv\")"
      ],
      "execution_count": 11,
      "outputs": []
    },
    {
      "cell_type": "code",
      "metadata": {
        "id": "gklv4z4vjqZ5",
        "colab_type": "code",
        "colab": {}
      },
      "source": [
        "extract_to_csv_imputed(dataset)"
      ],
      "execution_count": 7,
      "outputs": []
    }
  ]
}