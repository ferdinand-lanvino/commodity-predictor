{
  "nbformat": 4,
  "nbformat_minor": 0,
  "metadata": {
    "kernelspec": {
      "display_name": "Python 3",
      "language": "python",
      "name": "python3"
    },
    "language_info": {
      "codemirror_mode": {
        "name": "ipython",
        "version": 3
      },
      "file_extension": ".py",
      "mimetype": "text/x-python",
      "name": "python",
      "nbconvert_exporter": "python",
      "pygments_lexer": "ipython3",
      "version": "3.7.6"
    },
    "colab": {
      "name": "commodity-price-predictor.ipynb",
      "provenance": [],
      "toc_visible": true
    }
  },
  "cells": [
    {
      "cell_type": "markdown",
      "metadata": {
        "id": "i7PkPdbHD2Sg",
        "colab_type": "text"
      },
      "source": [
        "#Prediksi Harga Komoditas Pangan Pada Pasar Tradisional di Kota Bandung dengan Menggunakan Metode Time Series Forecasting"
      ]
    },
    {
      "cell_type": "markdown",
      "metadata": {
        "id": "Llq432_iG5w0",
        "colab_type": "text"
      },
      "source": [
        "Cloning the dataset"
      ]
    },
    {
      "cell_type": "code",
      "metadata": {
        "id": "5Mq34vX9DuR5",
        "colab_type": "code",
        "colab": {
          "base_uri": "https://localhost:8080/",
          "height": 191
        },
        "outputId": "0cdaa3e1-ad8c-4361-a1f7-ab76aa9d326f"
      },
      "source": [
        "# Clone commodity-predictor repo.\n",
        "!git clone -l -s git://github.com/ferdinand-lanvino/commodity-predictor.git\n",
        "%cd commodity-predictor\n",
        "!ls"
      ],
      "execution_count": 3,
      "outputs": [
        {
          "output_type": "stream",
          "text": [
            "Cloning into 'commodity-predictor'...\n",
            "warning: --local is ignored\n",
            "remote: Enumerating objects: 45, done.\u001b[K\n",
            "remote: Counting objects:   2% (1/45)\u001b[K\rremote: Counting objects:   4% (2/45)\u001b[K\rremote: Counting objects:   6% (3/45)\u001b[K\rremote: Counting objects:   8% (4/45)\u001b[K\rremote: Counting objects:  11% (5/45)\u001b[K\rremote: Counting objects:  13% (6/45)\u001b[K\rremote: Counting objects:  15% (7/45)\u001b[K\rremote: Counting objects:  17% (8/45)\u001b[K\rremote: Counting objects:  20% (9/45)\u001b[K\rremote: Counting objects:  22% (10/45)\u001b[K\rremote: Counting objects:  24% (11/45)\u001b[K\rremote: Counting objects:  26% (12/45)\u001b[K\rremote: Counting objects:  28% (13/45)\u001b[K\rremote: Counting objects:  31% (14/45)\u001b[K\rremote: Counting objects:  33% (15/45)\u001b[K\rremote: Counting objects:  35% (16/45)\u001b[K\rremote: Counting objects:  37% (17/45)\u001b[K\rremote: Counting objects:  40% (18/45)\u001b[K\rremote: Counting objects:  42% (19/45)\u001b[K\rremote: Counting objects:  44% (20/45)\u001b[K\rremote: Counting objects:  46% (21/45)\u001b[K\rremote: Counting objects:  48% (22/45)\u001b[K\rremote: Counting objects:  51% (23/45)\u001b[K\rremote: Counting objects:  53% (24/45)\u001b[K\rremote: Counting objects:  55% (25/45)\u001b[K\rremote: Counting objects:  57% (26/45)\u001b[K\rremote: Counting objects:  60% (27/45)\u001b[K\rremote: Counting objects:  62% (28/45)\u001b[K\rremote: Counting objects:  64% (29/45)\u001b[K\rremote: Counting objects:  66% (30/45)\u001b[K\rremote: Counting objects:  68% (31/45)\u001b[K\rremote: Counting objects:  71% (32/45)\u001b[K\rremote: Counting objects:  73% (33/45)\u001b[K\rremote: Counting objects:  75% (34/45)\u001b[K\rremote: Counting objects:  77% (35/45)\u001b[K\rremote: Counting objects:  80% (36/45)\u001b[K\rremote: Counting objects:  82% (37/45)\u001b[K\rremote: Counting objects:  84% (38/45)\u001b[K\rremote: Counting objects:  86% (39/45)\u001b[K\rremote: Counting objects:  88% (40/45)\u001b[K\rremote: Counting objects:  91% (41/45)\u001b[K\rremote: Counting objects:  93% (42/45)\u001b[K\rremote: Counting objects:  95% (43/45)\u001b[K\rremote: Counting objects:  97% (44/45)\u001b[K\rremote: Counting objects: 100% (45/45)\u001b[K\rremote: Counting objects: 100% (45/45), done.\u001b[K\n",
            "remote: Compressing objects:   2% (1/37)\u001b[K\rremote: Compressing objects:   5% (2/37)\u001b[K\rremote: Compressing objects:   8% (3/37)\u001b[K\rremote: Compressing objects:  10% (4/37)\u001b[K\rremote: Compressing objects:  13% (5/37)\u001b[K\rremote: Compressing objects:  16% (6/37)\u001b[K\rremote: Compressing objects:  18% (7/37)\u001b[K\rremote: Compressing objects:  21% (8/37)\u001b[K\rremote: Compressing objects:  24% (9/37)\u001b[K\rremote: Compressing objects:  27% (10/37)\u001b[K\rremote: Compressing objects:  29% (11/37)\u001b[K\rremote: Compressing objects:  32% (12/37)\u001b[K\rremote: Compressing objects:  35% (13/37)\u001b[K\rremote: Compressing objects:  37% (14/37)\u001b[K\rremote: Compressing objects:  40% (15/37)\u001b[K\rremote: Compressing objects:  43% (16/37)\u001b[K\rremote: Compressing objects:  45% (17/37)\u001b[K\rremote: Compressing objects:  48% (18/37)\u001b[K\rremote: Compressing objects:  51% (19/37)\u001b[K\rremote: Compressing objects:  54% (20/37)\u001b[K\rremote: Compressing objects:  56% (21/37)\u001b[K\rremote: Compressing objects:  59% (22/37)\u001b[K\rremote: Compressing objects:  62% (23/37)\u001b[K\rremote: Compressing objects:  64% (24/37)\u001b[K\rremote: Compressing objects:  67% (25/37)\u001b[K\rremote: Compressing objects:  70% (26/37)\u001b[K\rremote: Compressing objects:  72% (27/37)\u001b[K\rremote: Compressing objects:  75% (28/37)\u001b[K\rremote: Compressing objects:  78% (29/37)\u001b[K\rremote: Compressing objects:  81% (30/37)\u001b[K\rremote: Compressing objects:  83% (31/37)\u001b[K\rremote: Compressing objects:  86% (32/37)\u001b[K\rremote: Compressing objects:  89% (33/37)\u001b[K\rremote: Compressing objects:  91% (34/37)\u001b[K\rremote: Compressing objects:  94% (35/37)\u001b[K\rremote: Compressing objects:  97% (36/37)\u001b[K\rremote: Compressing objects: 100% (37/37)\u001b[K\rremote: Compressing objects: 100% (37/37), done.\u001b[K\n",
            "Receiving objects:   2% (1/45)   \rReceiving objects:   4% (2/45)   \rReceiving objects:   6% (3/45)   \rReceiving objects:   8% (4/45)   \rReceiving objects:  11% (5/45)   \rReceiving objects:  13% (6/45)   \rReceiving objects:  15% (7/45)   \rReceiving objects:  17% (8/45)   \rReceiving objects:  20% (9/45)   \rReceiving objects:  22% (10/45)   \rReceiving objects:  24% (11/45)   \rReceiving objects:  26% (12/45)   \rReceiving objects:  28% (13/45)   \rReceiving objects:  31% (14/45)   \rReceiving objects:  33% (15/45)   \rReceiving objects:  35% (16/45)   \rReceiving objects:  37% (17/45)   \rReceiving objects:  40% (18/45)   \rReceiving objects:  42% (19/45)   \rReceiving objects:  44% (20/45)   \rReceiving objects:  46% (21/45)   \rReceiving objects:  48% (22/45)   \rReceiving objects:  51% (23/45)   \rReceiving objects:  53% (24/45)   \rReceiving objects:  55% (25/45)   \rReceiving objects:  57% (26/45)   \rReceiving objects:  60% (27/45)   \rReceiving objects:  62% (28/45)   \rReceiving objects:  64% (29/45)   \rReceiving objects:  66% (30/45)   \rremote: Total 45 (delta 7), reused 26 (delta 3), pack-reused 0\u001b[K\n",
            "Receiving objects:  68% (31/45)   \rReceiving objects:  71% (32/45)   \rReceiving objects:  73% (33/45)   \rReceiving objects:  75% (34/45)   \rReceiving objects:  77% (35/45)   \rReceiving objects:  80% (36/45)   \rReceiving objects:  82% (37/45)   \rReceiving objects:  84% (38/45)   \rReceiving objects:  86% (39/45)   \rReceiving objects:  88% (40/45)   \rReceiving objects:  91% (41/45)   \rReceiving objects:  93% (42/45)   \rReceiving objects:  95% (43/45)   \rReceiving objects:  97% (44/45)   \rReceiving objects: 100% (45/45)   \rReceiving objects: 100% (45/45), 417.11 KiB | 12.64 MiB/s, done.\n",
            "Resolving deltas:   0% (0/7)   \rResolving deltas:  14% (1/7)   \rResolving deltas:  57% (4/7)   \rResolving deltas:  71% (5/7)   \rResolving deltas: 100% (7/7)   \rResolving deltas: 100% (7/7), done.\n",
            "/content/commodity-predictor\n",
            "commodity-price-predictor.ipynb  Dataset  README.md\n"
          ],
          "name": "stdout"
        }
      ]
    },
    {
      "cell_type": "markdown",
      "metadata": {
        "id": "mk_dqhGUKj7l",
        "colab_type": "text"
      },
      "source": [
        "Pull the latest update from Github"
      ]
    },
    {
      "cell_type": "code",
      "metadata": {
        "id": "5NuahaxxKnob",
        "colab_type": "code",
        "colab": {
          "base_uri": "https://localhost:8080/",
          "height": 104
        },
        "outputId": "3e26ef08-6574-440a-bda7-969289ba6f72"
      },
      "source": [
        "!git pull"
      ],
      "execution_count": 7,
      "outputs": [
        {
          "output_type": "stream",
          "text": [
            "Updating 19e21b7..f7fd8e7\n",
            "Fast-forward\n",
            " Dataset/Unprocessed/combined.csv | 180 \u001b[32m+++++++++++++++++++\u001b[m\u001b[31m--------------------\u001b[m\n",
            " commodity-price-predictor.ipynb  |  33 \u001b[32m++++++\u001b[m\u001b[31m-\u001b[m\n",
            " 2 files changed, 119 insertions(+), 94 deletions(-)\n"
          ],
          "name": "stdout"
        }
      ]
    },
    {
      "cell_type": "markdown",
      "metadata": {
        "id": "y8_d7O3eHBet",
        "colab_type": "text"
      },
      "source": [
        "Importing the libraries"
      ]
    },
    {
      "cell_type": "code",
      "metadata": {
        "id": "zpoCi9dtHJb7",
        "colab_type": "code",
        "colab": {}
      },
      "source": [
        "import numpy as np\n",
        "import matplotlib as plt\n",
        "import pandas as pd"
      ],
      "execution_count": 0,
      "outputs": []
    },
    {
      "cell_type": "markdown",
      "metadata": {
        "id": "9vWQWdkjIpv1",
        "colab_type": "text"
      },
      "source": [
        "Importing the dataset"
      ]
    },
    {
      "cell_type": "code",
      "metadata": {
        "id": "rjKtQRjpIrxH",
        "colab_type": "code",
        "colab": {}
      },
      "source": [
        "pd.read_csv()"
      ],
      "execution_count": 0,
      "outputs": []
    }
  ]
}