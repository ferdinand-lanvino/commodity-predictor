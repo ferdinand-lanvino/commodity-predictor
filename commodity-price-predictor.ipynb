{
  "nbformat": 4,
  "nbformat_minor": 0,
  "metadata": {
    "kernelspec": {
      "display_name": "Python 3",
      "language": "python",
      "name": "python3"
    },
    "language_info": {
      "codemirror_mode": {
        "name": "ipython",
        "version": 3
      },
      "file_extension": ".py",
      "mimetype": "text/x-python",
      "name": "python",
      "nbconvert_exporter": "python",
      "pygments_lexer": "ipython3",
      "version": "3.7.6"
    },
    "colab": {
      "name": "commodity-price-predictor.ipynb",
      "provenance": [],
      "toc_visible": true,
      "include_colab_link": true
    }
  },
  "cells": [
    {
      "cell_type": "markdown",
      "metadata": {
        "id": "view-in-github",
        "colab_type": "text"
      },
      "source": [
        "<a href=\"https://colab.research.google.com/github/ferdinand-lanvino/commodity-predictor/blob/master/commodity-price-predictor.ipynb\" target=\"_parent\"><img src=\"https://colab.research.google.com/assets/colab-badge.svg\" alt=\"Open In Colab\"/></a>"
      ]
    },
    {
      "cell_type": "markdown",
      "metadata": {
        "id": "i7PkPdbHD2Sg",
        "colab_type": "text"
      },
      "source": [
        "#Time Series Prediction on the Food Commodities Prices in Bandung\n",
        "**Author:** Ferdinand Lanvino<br>\n",
        "**Start Date:** 8th June, 2020<br>\n",
        "**Purpose:** Extract a meaningful information based on prediction model and data analysis of food commoditites<br>\n",
        "**Objective:** Build a prediction model of food commodities prices using various time-series forecasting methods, based on Python.<br>"
      ]
    },
    {
      "cell_type": "markdown",
      "metadata": {
        "id": "HcOxMSihPWT9",
        "colab_type": "text"
      },
      "source": [
        "Table of Contents:\n",
        "1. [Q&A](#q&a)\n",
        "2. [Preparing the Project Environment](#preparing-the-project-environment)\n"
      ]
    },
    {
      "cell_type": "markdown",
      "metadata": {
        "id": "k7JxYkmWT1H2",
        "colab_type": "text"
      },
      "source": [
        "## 1. Q&A <a name=\"q&a\"></a>\n",
        "**1. What is Time series analysis?**  \n",
        "A. Time Series is a series of observations taken at specified time intervals usually equal intervals. Analysis of the series helps us to predict future values based on previous observed values. In Time series, we have only 2 variables, time & the variable we want to forecast.  \n",
        "\n",
        "  \n",
        "**2. Why & where Time Series is used?**  \n",
        "A. Time series data can be analyzed in order to extract meaningful statistics and other characteristics. It's used in at least the 4 scenarios:  \n",
        "    a) Business Forecasting  \n",
        "    b) Understand past behavior  \n",
        "    c) Plan the future  \n",
        "    d) Evaluate current accomplishment  \n",
        "  \n",
        "**3. When shouldn't we use Time Series Analysis?**  \n",
        "A. We don't need to apply Time series in at least the following 2 cases:  \n",
        "    a) The dependant variable(y) (that is supposed to vary with time) is constant. Eq: y=f(x)=4, a line parallel to x-axis(time) will always remain the same.  \n",
        "    b) The dependant variable(y) represent values that can be denoted as a mathematical function. Eq: sin(x), log(x), Polynomials etc. Thus, we can directly get value at some time using the function itself. No need of forecasting.  \n",
        "  \n",
        "**4. What are the components of Time Series?**  \n",
        "A. There are 4 components:  \n",
        "    a) Trend - Upward & downward movement of the data with time over a large period of time. Eq: Appreciation of Dollar vs rupee.  \n",
        "    b) Seasonality - seasonal variances. Eq: Ice cream sales increases in Summer only  \n",
        "    c) Noise or Irregularity - Spikes & troughs at random intervals  \n",
        "    d) Cyclicity - behavior that repeats itself after large interval of time, like months, years etc.  \n",
        "    \n",
        "**5. What is Stationarity?**    \n",
        "A. Before applying any statistical model on a Time Series, the series has to be stationary, which means that, over different time periods,  \n",
        "    a) It should have constant mean.  \n",
        "    b) It should have constant variance or standard deviation.  \n",
        "    c) Auto-covariance should not depend on time.  \n",
        "\n",
        "Trend & Seasonality are two reasons why a Time Series is not stationary & hence need to be corrected.\n",
        "    \n",
        "**6. Why does Time Series(TS) need to be stationary?**  \n",
        "A. It is because of the following reasons:  \n",
        "    a) If a TS has a particular behavior over a time interval, then there's a high probability that over a different interval, it will have same behavior, provided TS is stationary. This helps in forecasting accurately.  \n",
        "    b) Theories & Mathematical formulas ae more mature & easier to apply for as TS which is stationary.  \n",
        "\n",
        "**7. Tests to check if a series is stationary or not**  \n",
        "A. There are 2 ways to check for Stationarity of a TS:  \n",
        "    a) Rolling Statistics - Plot the moving avg or moving standard deviation to see if it varies with time. Its a visual technique.  \n",
        "    b) ADCF Test - Augmented Dickey–Fuller test is used to gives us various values that can help in identifying stationarity. The Null hypothesis says that a TS is non-stationary. It comprises of a **Test Statistics** & some **critical values** for some confidence levels. If the Test statistics is less than the critical values, we can reject the null hypothesis & say that the series is stationary. THE ADCF test also gives us a **p-value**. Acc to the null hypothesis, lower values of p is better.\n",
        "    \n",
        "**8. What is ARIMA model?**      \n",
        "A. ARIMA(Auto Regressive Integrated Moving Average) is a combination of 2 models AR(Auto Regressive) & MA(Moving Average). It has 3 hyperparameters - P(auto regressive lags),d(order of differentiation),Q(moving avg.) which respectively comes from the AR, I & MA components. The AR part is correlation between prev & current time periods. To smooth out the noise, the MA part is used. The I part binds together the AR & MA parts. \n",
        "\n",
        "**9. How to find value of P & Q for ARIMA ?**  \n",
        "A. We need to take help of ACF(Auto Correlation Function) & PACF(Partial Auto Correlation Function) plots.\n",
        "ACF & PACF graphs are used to find value of P & Q for ARIMA. We need to check, for which value in x-axis, graph line drops to 0 in y-axis for 1st time.  \n",
        "From PACF(at y=0), get P  \n",
        "From ACF(at y=0), get Q  \n",
        "\n",
        "**10. What Is ADCF test?**  \n",
        "A. In statistics and econometrics, an augmented Dickey–Fuller test (ADF) tests the null hypothesis that a unit root is present in a time series sample. The alternative hypothesis is different depending on which version of the test is used, but is usually stationarity or trend-stationarity. It is an augmented version of the Dickey–Fuller test for a larger and more complicated set of time series models.\n",
        "\n",
        "The augmented Dickey–Fuller (ADF) statistic, used in the test, is a negative number. The more negative it is, the stronger the rejection of the hypothesis that there is a unit root at some level of confidence.\n",
        "\n",
        "p value(0<=p<=1) should be as low as possible. Critical values at different confidence intervals should be close to the Test statistics value.\n",
        "\n",
        "**11. What is Exponential Smoothing?**  \n",
        "A. *Exponential smoothing* is a rule of thumb technique for smoothing time series data using the exponential window function. Whereas in the simple moving average the past observations are weighted equally, exponential functions are used to assign exponentially decreasing weights over time. It is an easily learned and easily applied procedure for making some determination based on prior assumptions by the user, such as seasonality. Exponential smoothing is often used for analysis of time-series data.\n",
        "\n",
        "The raw data sequence is often represented by ${x_{t}}$ beginning at time $t=0$, and the output of the exponential smoothing algorithm is commonly written as ${s_{t}}$, which may be regarded as a best estimate of what the next value of $x$ will be. When the sequence of observations begins at time $t=0$, the simplest form of exponential smoothing is given by the formulas:  \n",
        "\n",
        "$s_{0} = x_{0}$  \n",
        "$s_{t} = α*x_{t} + (1-α)*s_{t-1}$  , $t>0$  \n",
        "\n",
        "where $α$ is the smoothing factor, and $0<α<1$.\n",
        "\n",
        "**12. What is Exponential decay?**  \n",
        "A. A quantity is subject to exponential decay if it decreases at a rate proportional to its current value. Symbolically, this process can be expressed by the following differential equation, where N is the quantity and λ (lambda) is a positive rate called the exponential decay constant:\n",
        "\n",
        "$dN/dt = -λN$\n",
        "\n",
        "The solution to this equation (see derivation below) is:  \n",
        "$N(t) = N_{0}*e^{-λt}$  \n",
        "\n",
        "where N(t) is the quantity at time t, and N0 = N(0) is the initial quantity, i.e. the quantity at time t = 0.  \n",
        "\n",
        "**Half Life** is the time required for the decaying quantity to fall to one half of its initial value. It is denoted by $t_{1/2}$. The half-life can be written in terms of the decay constant as:  \n",
        "\n",
        "$t_{1/2} = ln(2)/λ$  "
      ]
    },
    {
      "cell_type": "markdown",
      "metadata": {
        "id": "1XfeUZznLmnu",
        "colab_type": "text"
      },
      "source": [
        "## 2. Preparing the Project Environment <a name=\"preparing-the-project-environment\"></a>"
      ]
    },
    {
      "cell_type": "markdown",
      "metadata": {
        "id": "Llq432_iG5w0",
        "colab_type": "text"
      },
      "source": [
        "Cloning the dataset\n"
      ]
    },
    {
      "cell_type": "code",
      "metadata": {
        "id": "5Mq34vX9DuR5",
        "colab_type": "code",
        "outputId": "adb7979f-2bd0-4d61-d9f8-0068bebebe2a",
        "colab": {
          "base_uri": "https://localhost:8080/",
          "height": 191
        }
      },
      "source": [
        "# Clone commodity-predictor repo.\n",
        "!git clone -l -s git://github.com/ferdinand-lanvino/commodity-predictor.git\n",
        "%cd commodity-predictor\n",
        "!ls"
      ],
      "execution_count": 136,
      "outputs": [
        {
          "output_type": "stream",
          "text": [
            "Cloning into 'commodity-predictor'...\n",
            "warning: --local is ignored\n",
            "remote: Enumerating objects: 91, done.\u001b[K\n",
            "remote: Counting objects:   1% (1/91)\u001b[K\rremote: Counting objects:   2% (2/91)\u001b[K\rremote: Counting objects:   3% (3/91)\u001b[K\rremote: Counting objects:   4% (4/91)\u001b[K\rremote: Counting objects:   5% (5/91)\u001b[K\rremote: Counting objects:   6% (6/91)\u001b[K\rremote: Counting objects:   7% (7/91)\u001b[K\rremote: Counting objects:   8% (8/91)\u001b[K\rremote: Counting objects:   9% (9/91)\u001b[K\rremote: Counting objects:  10% (10/91)\u001b[K\rremote: Counting objects:  12% (11/91)\u001b[K\rremote: Counting objects:  13% (12/91)\u001b[K\rremote: Counting objects:  14% (13/91)\u001b[K\rremote: Counting objects:  15% (14/91)\u001b[K\rremote: Counting objects:  16% (15/91)\u001b[K\rremote: Counting objects:  17% (16/91)\u001b[K\rremote: Counting objects:  18% (17/91)\u001b[K\rremote: Counting objects:  19% (18/91)\u001b[K\rremote: Counting objects:  20% (19/91)\u001b[K\rremote: Counting objects:  21% (20/91)\u001b[K\rremote: Counting objects:  23% (21/91)\u001b[K\rremote: Counting objects:  24% (22/91)\u001b[K\rremote: Counting objects:  25% (23/91)\u001b[K\rremote: Counting objects:  26% (24/91)\u001b[K\rremote: Counting objects:  27% (25/91)\u001b[K\rremote: Counting objects:  28% (26/91)\u001b[K\rremote: Counting objects:  29% (27/91)\u001b[K\rremote: Counting objects:  30% (28/91)\u001b[K\rremote: Counting objects:  31% (29/91)\u001b[K\rremote: Counting objects:  32% (30/91)\u001b[K\rremote: Counting objects:  34% (31/91)\u001b[K\rremote: Counting objects:  35% (32/91)\u001b[K\rremote: Counting objects:  36% (33/91)\u001b[K\rremote: Counting objects:  37% (34/91)\u001b[K\rremote: Counting objects:  38% (35/91)\u001b[K\rremote: Counting objects:  39% (36/91)\u001b[K\rremote: Counting objects:  40% (37/91)\u001b[K\rremote: Counting objects:  41% (38/91)\u001b[K\rremote: Counting objects:  42% (39/91)\u001b[K\rremote: Counting objects:  43% (40/91)\u001b[K\rremote: Counting objects:  45% (41/91)\u001b[K\rremote: Counting objects:  46% (42/91)\u001b[K\rremote: Counting objects:  47% (43/91)\u001b[K\rremote: Counting objects:  48% (44/91)\u001b[K\rremote: Counting objects:  49% (45/91)\u001b[K\rremote: Counting objects:  50% (46/91)\u001b[K\rremote: Counting objects:  51% (47/91)\u001b[K\rremote: Counting objects:  52% (48/91)\u001b[K\rremote: Counting objects:  53% (49/91)\u001b[K\rremote: Counting objects:  54% (50/91)\u001b[K\rremote: Counting objects:  56% (51/91)\u001b[K\rremote: Counting objects:  57% (52/91)\u001b[K\rremote: Counting objects:  58% (53/91)\u001b[K\rremote: Counting objects:  59% (54/91)\u001b[K\rremote: Counting objects:  60% (55/91)\u001b[K\rremote: Counting objects:  61% (56/91)\u001b[K\rremote: Counting objects:  62% (57/91)\u001b[K\rremote: Counting objects:  63% (58/91)\u001b[K\rremote: Counting objects:  64% (59/91)\u001b[K\rremote: Counting objects:  65% (60/91)\u001b[K\rremote: Counting objects:  67% (61/91)\u001b[K\rremote: Counting objects:  68% (62/91)\u001b[K\rremote: Counting objects:  69% (63/91)\u001b[K\rremote: Counting objects:  70% (64/91)\u001b[K\rremote: Counting objects:  71% (65/91)\u001b[K\rremote: Counting objects:  72% (66/91)\u001b[K\rremote: Counting objects:  73% (67/91)\u001b[K\rremote: Counting objects:  74% (68/91)\u001b[K\rremote: Counting objects:  75% (69/91)\u001b[K\rremote: Counting objects:  76% (70/91)\u001b[K\rremote: Counting objects:  78% (71/91)\u001b[K\rremote: Counting objects:  79% (72/91)\u001b[K\rremote: Counting objects:  80% (73/91)\u001b[K\rremote: Counting objects:  81% (74/91)\u001b[K\rremote: Counting objects:  82% (75/91)\u001b[K\rremote: Counting objects:  83% (76/91)\u001b[K\rremote: Counting objects:  84% (77/91)\u001b[K\rremote: Counting objects:  85% (78/91)\u001b[K\rremote: Counting objects:  86% (79/91)\u001b[K\rremote: Counting objects:  87% (80/91)\u001b[K\rremote: Counting objects:  89% (81/91)\u001b[K\rremote: Counting objects:  90% (82/91)\u001b[K\rremote: Counting objects:  91% (83/91)\u001b[K\rremote: Counting objects:  92% (84/91)\u001b[K\rremote: Counting objects:  93% (85/91)\u001b[K\rremote: Counting objects:  94% (86/91)\u001b[K\rremote: Counting objects:  95% (87/91)\u001b[K\rremote: Counting objects:  96% (88/91)\u001b[K\rremote: Counting objects:  97% (89/91)\u001b[K\rremote: Counting objects:  98% (90/91)\u001b[K\rremote: Counting objects: 100% (91/91)\u001b[K\rremote: Counting objects: 100% (91/91), done.\u001b[K\n",
            "remote: Compressing objects:   1% (1/70)\u001b[K\rremote: Compressing objects:   2% (2/70)\u001b[K\rremote: Compressing objects:   4% (3/70)\u001b[K\rremote: Compressing objects:   5% (4/70)\u001b[K\rremote: Compressing objects:   7% (5/70)\u001b[K\rremote: Compressing objects:   8% (6/70)\u001b[K\rremote: Compressing objects:  10% (7/70)\u001b[K\rremote: Compressing objects:  11% (8/70)\u001b[K\rremote: Compressing objects:  12% (9/70)\u001b[K\rremote: Compressing objects:  14% (10/70)\u001b[K\rremote: Compressing objects:  15% (11/70)\u001b[K\rremote: Compressing objects:  17% (12/70)\u001b[K\rremote: Compressing objects:  18% (13/70)\u001b[K\rremote: Compressing objects:  20% (14/70)\u001b[K\rremote: Compressing objects:  21% (15/70)\u001b[K\rremote: Compressing objects:  22% (16/70)\u001b[K\rremote: Compressing objects:  24% (17/70)\u001b[K\rremote: Compressing objects:  25% (18/70)\u001b[K\rremote: Compressing objects:  27% (19/70)\u001b[K\rremote: Compressing objects:  28% (20/70)\u001b[K\rremote: Compressing objects:  30% (21/70)\u001b[K\rremote: Compressing objects:  31% (22/70)\u001b[K\rremote: Compressing objects:  32% (23/70)\u001b[K\rremote: Compressing objects:  34% (24/70)\u001b[K\rremote: Compressing objects:  35% (25/70)\u001b[K\rremote: Compressing objects:  37% (26/70)\u001b[K\rremote: Compressing objects:  38% (27/70)\u001b[K\rremote: Compressing objects:  40% (28/70)\u001b[K\rremote: Compressing objects:  41% (29/70)\u001b[K\rremote: Compressing objects:  42% (30/70)\u001b[K\rremote: Compressing objects:  44% (31/70)\u001b[K\rremote: Compressing objects:  45% (32/70)\u001b[K\rremote: Compressing objects:  47% (33/70)\u001b[K\rremote: Compressing objects:  48% (34/70)\u001b[K\rremote: Compressing objects:  50% (35/70)\u001b[K\rremote: Compressing objects:  51% (36/70)\u001b[K\rremote: Compressing objects:  52% (37/70)\u001b[K\rremote: Compressing objects:  54% (38/70)\u001b[K\rremote: Compressing objects:  55% (39/70)\u001b[K\rremote: Compressing objects:  57% (40/70)\u001b[K\rremote: Compressing objects:  58% (41/70)\u001b[K\rremote: Compressing objects:  60% (42/70)\u001b[K\rremote: Compressing objects:  61% (43/70)\u001b[K\rremote: Compressing objects:  62% (44/70)\u001b[K\rremote: Compressing objects:  64% (45/70)\u001b[K\rremote: Compressing objects:  65% (46/70)\u001b[K\rremote: Compressing objects:  67% (47/70)\u001b[K\rremote: Compressing objects:  68% (48/70)\u001b[K\rremote: Compressing objects:  70% (49/70)\u001b[K\rremote: Compressing objects:  71% (50/70)\u001b[K\rremote: Compressing objects:  72% (51/70)\u001b[K\rremote: Compressing objects:  74% (52/70)\u001b[K\rremote: Compressing objects:  75% (53/70)\u001b[K\rremote: Compressing objects:  77% (54/70)\u001b[K\rremote: Compressing objects:  78% (55/70)\u001b[K\rremote: Compressing objects:  80% (56/70)\u001b[K\rremote: Compressing objects:  81% (57/70)\u001b[K\rremote: Compressing objects:  82% (58/70)\u001b[K\rremote: Compressing objects:  84% (59/70)\u001b[K\rremote: Compressing objects:  85% (60/70)\u001b[K\rremote: Compressing objects:  87% (61/70)\u001b[K\rremote: Compressing objects:  88% (62/70)\u001b[K\rremote: Compressing objects:  90% (63/70)\u001b[K\rremote: Compressing objects:  91% (64/70)\u001b[K\rremote: Compressing objects:  92% (65/70)\u001b[K\rremote: Compressing objects:  94% (66/70)\u001b[K\rremote: Compressing objects:  95% (67/70)\u001b[K\rremote: Compressing objects:  97% (68/70)\u001b[K\rremote: Compressing objects:  98% (69/70)\u001b[K\rremote: Compressing objects: 100% (70/70)\u001b[K\rremote: Compressing objects: 100% (70/70), done.\u001b[K\n",
            "Receiving objects:   1% (1/91)   \rReceiving objects:   2% (2/91)   \rReceiving objects:   3% (3/91)   \rReceiving objects:   4% (4/91)   \rReceiving objects:   5% (5/91)   \rReceiving objects:   6% (6/91)   \rReceiving objects:   7% (7/91)   \rReceiving objects:   8% (8/91)   \rReceiving objects:   9% (9/91)   \rReceiving objects:  10% (10/91)   \rReceiving objects:  12% (11/91)   \rReceiving objects:  13% (12/91)   \rReceiving objects:  14% (13/91)   \rReceiving objects:  15% (14/91)   \rReceiving objects:  16% (15/91)   \rReceiving objects:  17% (16/91)   \rReceiving objects:  18% (17/91)   \rReceiving objects:  19% (18/91)   \rReceiving objects:  20% (19/91)   \rReceiving objects:  21% (20/91)   \rReceiving objects:  23% (21/91)   \rReceiving objects:  24% (22/91)   \rReceiving objects:  25% (23/91)   \rReceiving objects:  26% (24/91)   \rReceiving objects:  27% (25/91)   \rReceiving objects:  28% (26/91)   \rReceiving objects:  29% (27/91)   \rReceiving objects:  30% (28/91)   \rReceiving objects:  31% (29/91)   \rReceiving objects:  32% (30/91)   \rReceiving objects:  34% (31/91)   \rReceiving objects:  35% (32/91)   \rReceiving objects:  36% (33/91)   \rReceiving objects:  37% (34/91)   \rReceiving objects:  38% (35/91), 188.00 KiB | 338.00 KiB/s   \rReceiving objects:  39% (36/91), 188.00 KiB | 338.00 KiB/s   \rReceiving objects:  40% (37/91), 188.00 KiB | 338.00 KiB/s   \rReceiving objects:  41% (38/91), 188.00 KiB | 338.00 KiB/s   \rReceiving objects:  42% (39/91), 188.00 KiB | 338.00 KiB/s   \rReceiving objects:  43% (40/91), 188.00 KiB | 338.00 KiB/s   \rReceiving objects:  45% (41/91), 188.00 KiB | 338.00 KiB/s   \rReceiving objects:  46% (42/91), 188.00 KiB | 338.00 KiB/s   \rReceiving objects:  47% (43/91), 188.00 KiB | 338.00 KiB/s   \rReceiving objects:  48% (44/91), 188.00 KiB | 338.00 KiB/s   \rReceiving objects:  49% (45/91), 188.00 KiB | 338.00 KiB/s   \rReceiving objects:  50% (46/91), 188.00 KiB | 338.00 KiB/s   \rReceiving objects:  51% (47/91), 188.00 KiB | 338.00 KiB/s   \rReceiving objects:  52% (48/91), 188.00 KiB | 338.00 KiB/s   \rReceiving objects:  53% (49/91), 188.00 KiB | 338.00 KiB/s   \rReceiving objects:  54% (50/91), 188.00 KiB | 338.00 KiB/s   \rReceiving objects:  56% (51/91), 188.00 KiB | 338.00 KiB/s   \rReceiving objects:  57% (52/91), 188.00 KiB | 338.00 KiB/s   \rReceiving objects:  58% (53/91), 188.00 KiB | 338.00 KiB/s   \rReceiving objects:  59% (54/91), 188.00 KiB | 338.00 KiB/s   \rReceiving objects:  60% (55/91), 188.00 KiB | 338.00 KiB/s   \rReceiving objects:  61% (56/91), 188.00 KiB | 338.00 KiB/s   \rReceiving objects:  62% (57/91), 188.00 KiB | 338.00 KiB/s   \rReceiving objects:  63% (58/91), 188.00 KiB | 338.00 KiB/s   \rReceiving objects:  64% (59/91), 188.00 KiB | 338.00 KiB/s   \rReceiving objects:  65% (60/91), 188.00 KiB | 338.00 KiB/s   \rReceiving objects:  67% (61/91), 188.00 KiB | 338.00 KiB/s   \rReceiving objects:  68% (62/91), 188.00 KiB | 338.00 KiB/s   \rReceiving objects:  69% (63/91), 188.00 KiB | 338.00 KiB/s   \rReceiving objects:  70% (64/91), 188.00 KiB | 338.00 KiB/s   \rReceiving objects:  71% (65/91), 188.00 KiB | 338.00 KiB/s   \rReceiving objects:  72% (66/91), 188.00 KiB | 338.00 KiB/s   \rReceiving objects:  73% (67/91), 188.00 KiB | 338.00 KiB/s   \rReceiving objects:  74% (68/91), 188.00 KiB | 338.00 KiB/s   \rReceiving objects:  75% (69/91), 188.00 KiB | 338.00 KiB/s   \rReceiving objects:  76% (70/91), 188.00 KiB | 338.00 KiB/s   \rReceiving objects:  78% (71/91), 188.00 KiB | 338.00 KiB/s   \rReceiving objects:  79% (72/91), 188.00 KiB | 338.00 KiB/s   \rReceiving objects:  80% (73/91), 188.00 KiB | 338.00 KiB/s   \rReceiving objects:  81% (74/91), 188.00 KiB | 338.00 KiB/s   \rReceiving objects:  82% (75/91), 188.00 KiB | 338.00 KiB/s   \rReceiving objects:  83% (76/91), 188.00 KiB | 338.00 KiB/s   \rremote: Total 91 (delta 32), reused 47 (delta 13), pack-reused 0\u001b[K\n",
            "Receiving objects:  84% (77/91), 188.00 KiB | 338.00 KiB/s   \rReceiving objects:  85% (78/91), 188.00 KiB | 338.00 KiB/s   \rReceiving objects:  86% (79/91), 188.00 KiB | 338.00 KiB/s   \rReceiving objects:  87% (80/91), 188.00 KiB | 338.00 KiB/s   \rReceiving objects:  89% (81/91), 188.00 KiB | 338.00 KiB/s   \rReceiving objects:  90% (82/91), 188.00 KiB | 338.00 KiB/s   \rReceiving objects:  91% (83/91), 188.00 KiB | 338.00 KiB/s   \rReceiving objects:  92% (84/91), 188.00 KiB | 338.00 KiB/s   \rReceiving objects:  93% (85/91), 188.00 KiB | 338.00 KiB/s   \rReceiving objects:  94% (86/91), 188.00 KiB | 338.00 KiB/s   \rReceiving objects:  95% (87/91), 188.00 KiB | 338.00 KiB/s   \rReceiving objects:  96% (88/91), 188.00 KiB | 338.00 KiB/s   \rReceiving objects:  97% (89/91), 188.00 KiB | 338.00 KiB/s   \rReceiving objects:  98% (90/91), 188.00 KiB | 338.00 KiB/s   \rReceiving objects: 100% (91/91), 188.00 KiB | 338.00 KiB/s   \rReceiving objects: 100% (91/91), 748.46 KiB | 1.01 MiB/s, done.\n",
            "Resolving deltas:   0% (0/32)   \rResolving deltas:   3% (1/32)   \rResolving deltas:   6% (2/32)   \rResolving deltas:  18% (6/32)   \rResolving deltas:  21% (7/32)   \rResolving deltas:  28% (9/32)   \rResolving deltas:  34% (11/32)   \rResolving deltas:  56% (18/32)   \rResolving deltas:  65% (21/32)   \rResolving deltas:  81% (26/32)   \rResolving deltas:  87% (28/32)   \rResolving deltas:  90% (29/32)   \rResolving deltas: 100% (32/32)   \rResolving deltas: 100% (32/32), done.\n",
            "/content/commodity-predictor/commodity-predictor/commodity-predictor/commodity-predictor/commodity-predictor\n",
            "commodity-price-predictor.ipynb  Dataset  README.md\n"
          ],
          "name": "stdout"
        }
      ]
    },
    {
      "cell_type": "markdown",
      "metadata": {
        "id": "mk_dqhGUKj7l",
        "colab_type": "text"
      },
      "source": [
        "Pull the latest update from Github"
      ]
    },
    {
      "cell_type": "code",
      "metadata": {
        "id": "5NuahaxxKnob",
        "colab_type": "code",
        "outputId": "d772031a-7e7a-455d-e47a-06c010c6221e",
        "colab": {
          "base_uri": "https://localhost:8080/",
          "height": 34
        }
      },
      "source": [
        "!git pull"
      ],
      "execution_count": 137,
      "outputs": [
        {
          "output_type": "stream",
          "text": [
            "Already up to date.\n"
          ],
          "name": "stdout"
        }
      ]
    },
    {
      "cell_type": "markdown",
      "metadata": {
        "id": "uvPTikEKLxtV",
        "colab_type": "text"
      },
      "source": [
        "##2. Preprocessing the dataset"
      ]
    },
    {
      "cell_type": "markdown",
      "metadata": {
        "id": "y8_d7O3eHBet",
        "colab_type": "text"
      },
      "source": [
        "Importing the libraries"
      ]
    },
    {
      "cell_type": "code",
      "metadata": {
        "id": "zpoCi9dtHJb7",
        "colab_type": "code",
        "colab": {}
      },
      "source": [
        "#basic pacakges\n",
        "import numpy as np # linear algebra\n",
        "import pandas as pd # data processing, CSV file I/O\n",
        "import datetime # manipulating date formats\n",
        "\n",
        "#visualization\n",
        "import matplotlib.pylab as plt # basic plotting\n",
        "import seaborn as sns # for prettier plots\n",
        "\n",
        "#statistic\n",
        "from statsmodels.tsa.stattools import adfuller\n",
        "from statsmodels.tsa.stattools import acf, pacf\n",
        "from statsmodels.tsa.seasonal import seasonal_decompose\n",
        "from statsmodels.tsa.arima_model import ARIMA\n",
        "from matplotlib.pylab import rcParams\n",
        "rcParams['figure.figsize'] = 10, 6"
      ],
      "execution_count": 0,
      "outputs": []
    },
    {
      "cell_type": "markdown",
      "metadata": {
        "id": "9vWQWdkjIpv1",
        "colab_type": "text"
      },
      "source": [
        "Importing the dataset"
      ]
    },
    {
      "cell_type": "code",
      "metadata": {
        "id": "rjKtQRjpIrxH",
        "colab_type": "code",
        "outputId": "5064d84a-59fd-42c8-eb17-d2c6065bceeb",
        "colab": {
          "base_uri": "https://localhost:8080/",
          "height": 424
        }
      },
      "source": [
        "dataset = pd.read_csv('Dataset/Unprocessed/combined.csv')\n",
        "dataset"
      ],
      "execution_count": 139,
      "outputs": [
        {
          "output_type": "execute_result",
          "data": {
            "text/html": [
              "<div>\n",
              "<style scoped>\n",
              "    .dataframe tbody tr th:only-of-type {\n",
              "        vertical-align: middle;\n",
              "    }\n",
              "\n",
              "    .dataframe tbody tr th {\n",
              "        vertical-align: top;\n",
              "    }\n",
              "\n",
              "    .dataframe thead th {\n",
              "        text-align: right;\n",
              "    }\n",
              "</style>\n",
              "<table border=\"1\" class=\"dataframe\">\n",
              "  <thead>\n",
              "    <tr style=\"text-align: right;\">\n",
              "      <th></th>\n",
              "      <th>komoditas</th>\n",
              "      <th>tanggal</th>\n",
              "      <th>harga</th>\n",
              "    </tr>\n",
              "  </thead>\n",
              "  <tbody>\n",
              "    <tr>\n",
              "      <th>0</th>\n",
              "      <td>Beras</td>\n",
              "      <td>25/07/2016</td>\n",
              "      <td>10900.0</td>\n",
              "    </tr>\n",
              "    <tr>\n",
              "      <th>1</th>\n",
              "      <td>Beras</td>\n",
              "      <td>26/07/2016</td>\n",
              "      <td>10950.0</td>\n",
              "    </tr>\n",
              "    <tr>\n",
              "      <th>2</th>\n",
              "      <td>Beras</td>\n",
              "      <td>27/07/2016</td>\n",
              "      <td>10950.0</td>\n",
              "    </tr>\n",
              "    <tr>\n",
              "      <th>3</th>\n",
              "      <td>Beras</td>\n",
              "      <td>28/07/2016</td>\n",
              "      <td>10950.0</td>\n",
              "    </tr>\n",
              "    <tr>\n",
              "      <th>4</th>\n",
              "      <td>Beras</td>\n",
              "      <td>29/07/2016</td>\n",
              "      <td>10950.0</td>\n",
              "    </tr>\n",
              "    <tr>\n",
              "      <th>...</th>\n",
              "      <td>...</td>\n",
              "      <td>...</td>\n",
              "      <td>...</td>\n",
              "    </tr>\n",
              "    <tr>\n",
              "      <th>26227</th>\n",
              "      <td>Gula Pasir Lokal</td>\n",
              "      <td>23/12/2019</td>\n",
              "      <td>13000.0</td>\n",
              "    </tr>\n",
              "    <tr>\n",
              "      <th>26228</th>\n",
              "      <td>Gula Pasir Lokal</td>\n",
              "      <td>26/12/2019</td>\n",
              "      <td>13000.0</td>\n",
              "    </tr>\n",
              "    <tr>\n",
              "      <th>26229</th>\n",
              "      <td>Gula Pasir Lokal</td>\n",
              "      <td>27/12/2019</td>\n",
              "      <td>13000.0</td>\n",
              "    </tr>\n",
              "    <tr>\n",
              "      <th>26230</th>\n",
              "      <td>Gula Pasir Lokal</td>\n",
              "      <td>30/12/2019</td>\n",
              "      <td>13000.0</td>\n",
              "    </tr>\n",
              "    <tr>\n",
              "      <th>26231</th>\n",
              "      <td>Gula Pasir Lokal</td>\n",
              "      <td>31/12/2019</td>\n",
              "      <td>13000.0</td>\n",
              "    </tr>\n",
              "  </tbody>\n",
              "</table>\n",
              "<p>26232 rows × 3 columns</p>\n",
              "</div>"
            ],
            "text/plain": [
              "              komoditas     tanggal    harga\n",
              "0                 Beras  25/07/2016  10900.0\n",
              "1                 Beras  26/07/2016  10950.0\n",
              "2                 Beras  27/07/2016  10950.0\n",
              "3                 Beras  28/07/2016  10950.0\n",
              "4                 Beras  29/07/2016  10950.0\n",
              "...                 ...         ...      ...\n",
              "26227  Gula Pasir Lokal  23/12/2019  13000.0\n",
              "26228  Gula Pasir Lokal  26/12/2019  13000.0\n",
              "26229  Gula Pasir Lokal  27/12/2019  13000.0\n",
              "26230  Gula Pasir Lokal  30/12/2019  13000.0\n",
              "26231  Gula Pasir Lokal  31/12/2019  13000.0\n",
              "\n",
              "[26232 rows x 3 columns]"
            ]
          },
          "metadata": {
            "tags": []
          },
          "execution_count": 139
        }
      ]
    },
    {
      "cell_type": "code",
      "metadata": {
        "id": "_uURB-dJWjlJ",
        "colab_type": "code",
        "outputId": "f5972de9-3775-41ff-e970-f707febb0a73",
        "colab": {
          "base_uri": "https://localhost:8080/",
          "height": 506
        }
      },
      "source": [
        "#date formatting\n",
        "dataset['tanggal'] = pd.to_datetime(dataset['tanggal'],format='%d/%m/%Y') #convert from string to datetime\n",
        "#checking data\n",
        "print(ds.info())\n",
        "indexedDataset = dataset.set_index(['tanggal'])\n",
        "indexedDataset.head(5)\n",
        "print(indexedDataset.info())\n",
        "#Remove null value\n",
        "dataset = dataset.dropna(how='any',axis=0)"
      ],
      "execution_count": 165,
      "outputs": [
        {
          "output_type": "stream",
          "text": [
            "<class 'pandas.core.frame.DataFrame'>\n",
            "RangeIndex: 26232 entries, 0 to 26231\n",
            "Data columns (total 3 columns):\n",
            " #   Column     Non-Null Count  Dtype         \n",
            "---  ------     --------------  -----         \n",
            " 0   komoditas  26232 non-null  object        \n",
            " 1   tanggal    26232 non-null  datetime64[ns]\n",
            " 2   harga      26142 non-null  float64       \n",
            "dtypes: datetime64[ns](1), float64(1), object(1)\n",
            "memory usage: 614.9+ KB\n",
            "None\n",
            "<class 'pandas.core.frame.DataFrame'>\n",
            "DatetimeIndex: 26142 entries, 2016-07-25 to 2019-12-31\n",
            "Data columns (total 2 columns):\n",
            " #   Column     Non-Null Count  Dtype  \n",
            "---  ------     --------------  -----  \n",
            " 0   komoditas  26142 non-null  object \n",
            " 1   harga      26142 non-null  float64\n",
            "dtypes: float64(1), object(1)\n",
            "memory usage: 612.7+ KB\n",
            "None\n"
          ],
          "name": "stdout"
        },
        {
          "output_type": "stream",
          "text": [
            "/usr/local/lib/python3.6/dist-packages/ipykernel_launcher.py:2: SettingWithCopyWarning: \n",
            "A value is trying to be set on a copy of a slice from a DataFrame.\n",
            "Try using .loc[row_indexer,col_indexer] = value instead\n",
            "\n",
            "See the caveats in the documentation: https://pandas.pydata.org/pandas-docs/stable/user_guide/indexing.html#returning-a-view-versus-a-copy\n",
            "  \n"
          ],
          "name": "stderr"
        }
      ]
    },
    {
      "cell_type": "markdown",
      "metadata": {
        "id": "-6WGHaA0Qxf7",
        "colab_type": "text"
      },
      "source": [
        "Aggregate to monthly level the required metrics"
      ]
    },
    {
      "cell_type": "code",
      "metadata": {
        "id": "TZ6QUqD9QzKk",
        "colab_type": "code",
        "outputId": "0d934a73-d37a-4fc8-fe17-a534d2aa54fe",
        "colab": {
          "base_uri": "https://localhost:8080/",
          "height": 1000
        }
      },
      "source": [
        "\n",
        "monthly_data = dataset.groupby(\"komoditas\")[\"tanggal\",\"harga\"].agg({\"tanggal\":[\"min\",\"max\"]})\n",
        "monthly_data"
      ],
      "execution_count": 141,
      "outputs": [
        {
          "output_type": "stream",
          "text": [
            "/usr/local/lib/python3.6/dist-packages/ipykernel_launcher.py:2: FutureWarning: Indexing with multiple keys (implicitly converted to a tuple of keys) will be deprecated, use a list instead.\n",
            "  \n"
          ],
          "name": "stderr"
        },
        {
          "output_type": "execute_result",
          "data": {
            "text/html": [
              "<div>\n",
              "<style scoped>\n",
              "    .dataframe tbody tr th:only-of-type {\n",
              "        vertical-align: middle;\n",
              "    }\n",
              "\n",
              "    .dataframe tbody tr th {\n",
              "        vertical-align: top;\n",
              "    }\n",
              "\n",
              "    .dataframe thead tr th {\n",
              "        text-align: left;\n",
              "    }\n",
              "\n",
              "    .dataframe thead tr:last-of-type th {\n",
              "        text-align: right;\n",
              "    }\n",
              "</style>\n",
              "<table border=\"1\" class=\"dataframe\">\n",
              "  <thead>\n",
              "    <tr>\n",
              "      <th></th>\n",
              "      <th colspan=\"4\" halign=\"left\">tanggal</th>\n",
              "    </tr>\n",
              "    <tr>\n",
              "      <th></th>\n",
              "      <th colspan=\"2\" halign=\"left\">tanggal</th>\n",
              "      <th colspan=\"2\" halign=\"left\">harga</th>\n",
              "    </tr>\n",
              "    <tr>\n",
              "      <th></th>\n",
              "      <th>min</th>\n",
              "      <th>max</th>\n",
              "      <th>min</th>\n",
              "      <th>max</th>\n",
              "    </tr>\n",
              "    <tr>\n",
              "      <th>komoditas</th>\n",
              "      <th></th>\n",
              "      <th></th>\n",
              "      <th></th>\n",
              "      <th></th>\n",
              "    </tr>\n",
              "  </thead>\n",
              "  <tbody>\n",
              "    <tr>\n",
              "      <th>Bawang Merah</th>\n",
              "      <td>2016-07-25</td>\n",
              "      <td>2019-12-31</td>\n",
              "      <td>22500.0</td>\n",
              "      <td>54500.0</td>\n",
              "    </tr>\n",
              "    <tr>\n",
              "      <th>Bawang Merah Ukuran Sedang</th>\n",
              "      <td>2016-07-25</td>\n",
              "      <td>2019-12-31</td>\n",
              "      <td>22500.0</td>\n",
              "      <td>54500.0</td>\n",
              "    </tr>\n",
              "    <tr>\n",
              "      <th>Bawang Putih</th>\n",
              "      <td>2016-07-25</td>\n",
              "      <td>2019-12-31</td>\n",
              "      <td>23500.0</td>\n",
              "      <td>87500.0</td>\n",
              "    </tr>\n",
              "    <tr>\n",
              "      <th>Bawang Putih Ukuran Sedang</th>\n",
              "      <td>2016-07-25</td>\n",
              "      <td>2019-12-31</td>\n",
              "      <td>23500.0</td>\n",
              "      <td>87500.0</td>\n",
              "    </tr>\n",
              "    <tr>\n",
              "      <th>Beras</th>\n",
              "      <td>2016-07-25</td>\n",
              "      <td>2019-12-31</td>\n",
              "      <td>10900.0</td>\n",
              "      <td>12650.0</td>\n",
              "    </tr>\n",
              "    <tr>\n",
              "      <th>Beras Kualitas Bawah I</th>\n",
              "      <td>2016-07-25</td>\n",
              "      <td>2019-12-31</td>\n",
              "      <td>9750.0</td>\n",
              "      <td>11900.0</td>\n",
              "    </tr>\n",
              "    <tr>\n",
              "      <th>Beras Kualitas Bawah II</th>\n",
              "      <td>2016-07-25</td>\n",
              "      <td>2019-12-31</td>\n",
              "      <td>9000.0</td>\n",
              "      <td>11500.0</td>\n",
              "    </tr>\n",
              "    <tr>\n",
              "      <th>Beras Kualitas Medium I</th>\n",
              "      <td>2016-07-25</td>\n",
              "      <td>2019-12-31</td>\n",
              "      <td>11400.0</td>\n",
              "      <td>14500.0</td>\n",
              "    </tr>\n",
              "    <tr>\n",
              "      <th>Beras Kualitas Medium II</th>\n",
              "      <td>2016-07-25</td>\n",
              "      <td>2019-12-31</td>\n",
              "      <td>10850.0</td>\n",
              "      <td>13650.0</td>\n",
              "    </tr>\n",
              "    <tr>\n",
              "      <th>Beras Kualitas Super I</th>\n",
              "      <td>2016-07-25</td>\n",
              "      <td>2019-12-31</td>\n",
              "      <td>12250.0</td>\n",
              "      <td>14000.0</td>\n",
              "    </tr>\n",
              "    <tr>\n",
              "      <th>Beras Kualitas Super II</th>\n",
              "      <td>2016-07-25</td>\n",
              "      <td>2019-12-31</td>\n",
              "      <td>9250.0</td>\n",
              "      <td>13100.0</td>\n",
              "    </tr>\n",
              "    <tr>\n",
              "      <th>Cabai Merah</th>\n",
              "      <td>2016-07-25</td>\n",
              "      <td>2019-12-31</td>\n",
              "      <td>26250.0</td>\n",
              "      <td>102500.0</td>\n",
              "    </tr>\n",
              "    <tr>\n",
              "      <th>Cabai Merah Besar</th>\n",
              "      <td>2016-07-25</td>\n",
              "      <td>2019-12-31</td>\n",
              "      <td>26000.0</td>\n",
              "      <td>122500.0</td>\n",
              "    </tr>\n",
              "    <tr>\n",
              "      <th>Cabai Merah Keriting</th>\n",
              "      <td>2016-07-25</td>\n",
              "      <td>2019-12-31</td>\n",
              "      <td>22500.0</td>\n",
              "      <td>102500.0</td>\n",
              "    </tr>\n",
              "    <tr>\n",
              "      <th>Cabai Rawit</th>\n",
              "      <td>2016-07-25</td>\n",
              "      <td>2019-12-31</td>\n",
              "      <td>22500.0</td>\n",
              "      <td>127500.0</td>\n",
              "    </tr>\n",
              "    <tr>\n",
              "      <th>Cabai Rawit Hijau</th>\n",
              "      <td>2016-07-25</td>\n",
              "      <td>2019-12-31</td>\n",
              "      <td>22500.0</td>\n",
              "      <td>97500.0</td>\n",
              "    </tr>\n",
              "    <tr>\n",
              "      <th>Cabai Rawit Merah</th>\n",
              "      <td>2016-07-25</td>\n",
              "      <td>2019-12-31</td>\n",
              "      <td>22500.0</td>\n",
              "      <td>160000.0</td>\n",
              "    </tr>\n",
              "    <tr>\n",
              "      <th>Daging Ayam</th>\n",
              "      <td>2016-07-25</td>\n",
              "      <td>2019-12-31</td>\n",
              "      <td>29750.0</td>\n",
              "      <td>46250.0</td>\n",
              "    </tr>\n",
              "    <tr>\n",
              "      <th>Daging Ayam Ras Segar</th>\n",
              "      <td>2016-07-25</td>\n",
              "      <td>2019-12-31</td>\n",
              "      <td>29750.0</td>\n",
              "      <td>46250.0</td>\n",
              "    </tr>\n",
              "    <tr>\n",
              "      <th>Daging Sapi</th>\n",
              "      <td>2016-07-25</td>\n",
              "      <td>2019-12-31</td>\n",
              "      <td>125000.0</td>\n",
              "      <td>147500.0</td>\n",
              "    </tr>\n",
              "    <tr>\n",
              "      <th>Daging Sapi Kualitas I</th>\n",
              "      <td>2016-07-25</td>\n",
              "      <td>2019-12-31</td>\n",
              "      <td>130000.0</td>\n",
              "      <td>160000.0</td>\n",
              "    </tr>\n",
              "    <tr>\n",
              "      <th>Daging Sapi Kualitas II</th>\n",
              "      <td>2016-07-25</td>\n",
              "      <td>2019-12-31</td>\n",
              "      <td>120000.0</td>\n",
              "      <td>137500.0</td>\n",
              "    </tr>\n",
              "    <tr>\n",
              "      <th>Gula Pasir</th>\n",
              "      <td>2016-07-25</td>\n",
              "      <td>2019-12-31</td>\n",
              "      <td>12450.0</td>\n",
              "      <td>16700.0</td>\n",
              "    </tr>\n",
              "    <tr>\n",
              "      <th>Gula Pasir Kualitas Premium</th>\n",
              "      <td>2016-07-25</td>\n",
              "      <td>2019-12-31</td>\n",
              "      <td>13150.0</td>\n",
              "      <td>17250.0</td>\n",
              "    </tr>\n",
              "    <tr>\n",
              "      <th>Gula Pasir Lokal</th>\n",
              "      <td>2016-07-25</td>\n",
              "      <td>2019-12-31</td>\n",
              "      <td>11750.0</td>\n",
              "      <td>16150.0</td>\n",
              "    </tr>\n",
              "    <tr>\n",
              "      <th>Minyak Goreng</th>\n",
              "      <td>2016-07-25</td>\n",
              "      <td>2019-12-31</td>\n",
              "      <td>12450.0</td>\n",
              "      <td>14550.0</td>\n",
              "    </tr>\n",
              "    <tr>\n",
              "      <th>Minyak Goreng Curah</th>\n",
              "      <td>2016-07-25</td>\n",
              "      <td>2019-12-31</td>\n",
              "      <td>10500.0</td>\n",
              "      <td>13650.0</td>\n",
              "    </tr>\n",
              "    <tr>\n",
              "      <th>Minyak Goreng Kemasan Bermerk I</th>\n",
              "      <td>2016-07-25</td>\n",
              "      <td>2019-12-31</td>\n",
              "      <td>13000.0</td>\n",
              "      <td>15400.0</td>\n",
              "    </tr>\n",
              "    <tr>\n",
              "      <th>Minyak Goreng Kemasan Bermerk II</th>\n",
              "      <td>2016-07-25</td>\n",
              "      <td>2019-12-31</td>\n",
              "      <td>13150.0</td>\n",
              "      <td>15150.0</td>\n",
              "    </tr>\n",
              "    <tr>\n",
              "      <th>Telur Ayam</th>\n",
              "      <td>2016-07-25</td>\n",
              "      <td>2019-12-31</td>\n",
              "      <td>17500.0</td>\n",
              "      <td>29250.0</td>\n",
              "    </tr>\n",
              "    <tr>\n",
              "      <th>Telur Ayam Ras Segar</th>\n",
              "      <td>2016-07-25</td>\n",
              "      <td>2019-12-31</td>\n",
              "      <td>17500.0</td>\n",
              "      <td>29250.0</td>\n",
              "    </tr>\n",
              "  </tbody>\n",
              "</table>\n",
              "</div>"
            ],
            "text/plain": [
              "                                    tanggal                               \n",
              "                                    tanggal                harga          \n",
              "                                        min        max       min       max\n",
              "komoditas                                                                 \n",
              "Bawang Merah                     2016-07-25 2019-12-31   22500.0   54500.0\n",
              "Bawang Merah Ukuran Sedang       2016-07-25 2019-12-31   22500.0   54500.0\n",
              "Bawang Putih                     2016-07-25 2019-12-31   23500.0   87500.0\n",
              "Bawang Putih Ukuran Sedang       2016-07-25 2019-12-31   23500.0   87500.0\n",
              "Beras                            2016-07-25 2019-12-31   10900.0   12650.0\n",
              "Beras Kualitas Bawah I           2016-07-25 2019-12-31    9750.0   11900.0\n",
              "Beras Kualitas Bawah II          2016-07-25 2019-12-31    9000.0   11500.0\n",
              "Beras Kualitas Medium I          2016-07-25 2019-12-31   11400.0   14500.0\n",
              "Beras Kualitas Medium II         2016-07-25 2019-12-31   10850.0   13650.0\n",
              "Beras Kualitas Super I           2016-07-25 2019-12-31   12250.0   14000.0\n",
              "Beras Kualitas Super II          2016-07-25 2019-12-31    9250.0   13100.0\n",
              "Cabai Merah                      2016-07-25 2019-12-31   26250.0  102500.0\n",
              "Cabai Merah Besar                2016-07-25 2019-12-31   26000.0  122500.0\n",
              "Cabai Merah Keriting             2016-07-25 2019-12-31   22500.0  102500.0\n",
              "Cabai Rawit                      2016-07-25 2019-12-31   22500.0  127500.0\n",
              "Cabai Rawit Hijau                2016-07-25 2019-12-31   22500.0   97500.0\n",
              "Cabai Rawit Merah                2016-07-25 2019-12-31   22500.0  160000.0\n",
              "Daging Ayam                      2016-07-25 2019-12-31   29750.0   46250.0\n",
              "Daging Ayam Ras Segar            2016-07-25 2019-12-31   29750.0   46250.0\n",
              "Daging Sapi                      2016-07-25 2019-12-31  125000.0  147500.0\n",
              "Daging Sapi Kualitas I           2016-07-25 2019-12-31  130000.0  160000.0\n",
              "Daging Sapi Kualitas II          2016-07-25 2019-12-31  120000.0  137500.0\n",
              "Gula Pasir                       2016-07-25 2019-12-31   12450.0   16700.0\n",
              "Gula Pasir Kualitas Premium      2016-07-25 2019-12-31   13150.0   17250.0\n",
              "Gula Pasir Lokal                 2016-07-25 2019-12-31   11750.0   16150.0\n",
              "Minyak Goreng                    2016-07-25 2019-12-31   12450.0   14550.0\n",
              "Minyak Goreng Curah              2016-07-25 2019-12-31   10500.0   13650.0\n",
              "Minyak Goreng Kemasan Bermerk I  2016-07-25 2019-12-31   13000.0   15400.0\n",
              "Minyak Goreng Kemasan Bermerk II 2016-07-25 2019-12-31   13150.0   15150.0\n",
              "Telur Ayam                       2016-07-25 2019-12-31   17500.0   29250.0\n",
              "Telur Ayam Ras Segar             2016-07-25 2019-12-31   17500.0   29250.0"
            ]
          },
          "metadata": {
            "tags": []
          },
          "execution_count": 141
        }
      ]
    },
    {
      "cell_type": "code",
      "metadata": {
        "id": "EUEJCb7pdxvt",
        "colab_type": "code",
        "colab": {
          "base_uri": "https://localhost:8080/",
          "height": 1000
        },
        "outputId": "f47947f8-f318-4043-9862-415bf8d2b99d"
      },
      "source": [
        "# Convert dataset to every category\n",
        "bawang_merah = dataset[dataset.komoditas=='Bawang Merah']\n",
        "bawang_putih = dataset[dataset.komoditas=='Bawang Putih']\n",
        "beras = dataset[dataset.komoditas=='Beras']\n",
        "cabai_merah = dataset[dataset.komoditas=='Cabai Merah']\n",
        "cabai_rawit = dataset[dataset.komoditas=='Cabai Rawit']\n",
        "\n",
        "daging_ayam = dataset[dataset.komoditas=='Daging Ayam']\n",
        "daging_sapi = dataset[dataset.komoditas=='Daging Sapi']\n",
        "gula_pasir = dataset[dataset.komoditas=='Gula Pasir']\n",
        "minyak_goreng = dataset[dataset.komoditas=='Minyak Goreng']\n",
        "telur_ayam = dataset[dataset.komoditas=='Telur Ayam']\n",
        "\n",
        "#view only 'tanggal'(date) and 'harga'(price) column and  set index by 'tanggal'(date)\n",
        "bawang_merah_daily = bawang_merah[['tanggal','harga']].set_index(['tanggal'])\n",
        "print(\"======================\\n\",\"Bawang Merah\\n\",bawang_merah_daily)\n",
        "\n",
        "bawang_putih_daily = bawang_putih[['tanggal','harga']].set_index(['tanggal'])\n",
        "print(\"======================\\n\",\"Bawang Putih\\n\",bawang_putih_daily)\n",
        "\n",
        "beras_daily = beras[['tanggal','harga']].set_index(['tanggal'])\n",
        "print(\"======================\\n\",\"Beras\\n\",beras_daily)\n",
        "\n",
        "cabai_merah_daily = cabai_merah[['tanggal','harga']].set_index(['tanggal'])\n",
        "print(\"======================\\n\",\"Cabai Merah\\n\",cabai_merah_daily)\n",
        "\n",
        "cabai_rawit_daily = cabai_rawit[['tanggal','harga']].set_index(['tanggal'])\n",
        "print(\"======================\\n\",\"Cabai Rawit\\n\",cabai_rawit_daily)\n",
        "\n",
        "\n",
        "daging_ayam_daily = daging_ayam[['tanggal','harga']].set_index(['tanggal'])\n",
        "print(\"======================\\n\",\"Daging Ayam\\n\",daging_ayam_daily)\n",
        "\n",
        "daging_sapi_daily = daging_sapi[['tanggal','harga']].set_index(['tanggal'])\n",
        "print(\"======================\\n\",\"Daging Sapi\\n\",daging_sapi_daily)\n",
        "\n",
        "gula_pasir_daily = gula_pasir[['tanggal','harga']].set_index(['tanggal'])\n",
        "print(\"======================\\n\",\"Gula Pasir\\n\",gula_pasir_daily)\n",
        "\n",
        "minyak_goreng_daily = minyak_goreng[['tanggal','harga']].set_index(['tanggal'])\n",
        "print(\"======================\\n\",\"Minyak Goreng\\n\",minyak_goreng_daily)\n",
        "\n",
        "telur_ayam_daily = telur_ayam[['tanggal','harga']].set_index(['tanggal'])\n",
        "print(\"======================\\n\",\"Telur Ayam\\n\",telur_ayam_daily)\n",
        "\n"
      ],
      "execution_count": 142,
      "outputs": [
        {
          "output_type": "stream",
          "text": [
            "======================\n",
            " Bawang Merah\n",
            "               harga\n",
            "tanggal            \n",
            "2016-07-25  50000.0\n",
            "2016-07-26  50000.0\n",
            "2016-07-27  49500.0\n",
            "2016-07-28  49500.0\n",
            "2016-07-29  54500.0\n",
            "...             ...\n",
            "2019-12-23  43250.0\n",
            "2019-12-26  43250.0\n",
            "2019-12-27  43250.0\n",
            "2019-12-30  43250.0\n",
            "2019-12-31  43250.0\n",
            "\n",
            "[851 rows x 1 columns]\n",
            "======================\n",
            " Bawang Putih\n",
            "               harga\n",
            "tanggal            \n",
            "2016-07-25  40000.0\n",
            "2016-07-26  40000.0\n",
            "2016-07-27  40000.0\n",
            "2016-07-28  40000.0\n",
            "2016-07-29  40000.0\n",
            "...             ...\n",
            "2019-12-23  36750.0\n",
            "2019-12-26  36750.0\n",
            "2019-12-27  36750.0\n",
            "2019-12-30  36750.0\n",
            "2019-12-31  36750.0\n",
            "\n",
            "[851 rows x 1 columns]\n",
            "======================\n",
            " Beras\n",
            "               harga\n",
            "tanggal            \n",
            "2016-07-25  10900.0\n",
            "2016-07-26  10950.0\n",
            "2016-07-27  10950.0\n",
            "2016-07-28  10950.0\n",
            "2016-07-29  10950.0\n",
            "...             ...\n",
            "2019-12-23  11450.0\n",
            "2019-12-26  11450.0\n",
            "2019-12-27  11450.0\n",
            "2019-12-30  11400.0\n",
            "2019-12-31  11400.0\n",
            "\n",
            "[851 rows x 1 columns]\n",
            "======================\n",
            " Cabai Merah\n",
            "               harga\n",
            "tanggal            \n",
            "2016-07-25  35000.0\n",
            "2016-07-26  35000.0\n",
            "2016-07-27  35000.0\n",
            "2016-07-28  35000.0\n",
            "2016-07-29  36000.0\n",
            "...             ...\n",
            "2019-12-23  42500.0\n",
            "2019-12-26  42500.0\n",
            "2019-12-27  42500.0\n",
            "2019-12-30  42500.0\n",
            "2019-12-31  42500.0\n",
            "\n",
            "[851 rows x 1 columns]\n",
            "======================\n",
            " Cabai Rawit\n",
            "               harga\n",
            "tanggal            \n",
            "2016-07-25  42250.0\n",
            "2016-07-26  44750.0\n",
            "2016-07-27  45000.0\n",
            "2016-07-28  44500.0\n",
            "2016-07-29  44750.0\n",
            "...             ...\n",
            "2019-12-23  41250.0\n",
            "2019-12-26  41250.0\n",
            "2019-12-27  41250.0\n",
            "2019-12-30  41250.0\n",
            "2019-12-31  41250.0\n",
            "\n",
            "[851 rows x 1 columns]\n",
            "======================\n",
            " Daging Ayam\n",
            "               harga\n",
            "tanggal            \n",
            "2016-07-25  31200.0\n",
            "2016-07-26  31500.0\n",
            "2016-07-27  31700.0\n",
            "2016-07-28  32200.0\n",
            "2016-07-29  32000.0\n",
            "...             ...\n",
            "2019-12-23  35250.0\n",
            "2019-12-26  35500.0\n",
            "2019-12-27  35500.0\n",
            "2019-12-30  35500.0\n",
            "2019-12-31  35750.0\n",
            "\n",
            "[851 rows x 1 columns]\n",
            "======================\n",
            " Daging Sapi\n",
            "                harga\n",
            "tanggal             \n",
            "2016-07-25  136900.0\n",
            "2016-07-26  136900.0\n",
            "2016-07-27  136900.0\n",
            "2016-07-28  136900.0\n",
            "2016-07-29  136900.0\n",
            "...              ...\n",
            "2019-12-23  137500.0\n",
            "2019-12-26  137500.0\n",
            "2019-12-27  137500.0\n",
            "2019-12-30  137500.0\n",
            "2019-12-31  137500.0\n",
            "\n",
            "[851 rows x 1 columns]\n",
            "======================\n",
            " Gula Pasir\n",
            "               harga\n",
            "tanggal            \n",
            "2016-07-25  16100.0\n",
            "2016-07-26  16100.0\n",
            "2016-07-27  16100.0\n",
            "2016-07-28  16450.0\n",
            "2016-07-29  16600.0\n",
            "...             ...\n",
            "2019-12-23  13200.0\n",
            "2019-12-26  13200.0\n",
            "2019-12-27  13200.0\n",
            "2019-12-30  13200.0\n",
            "2019-12-31  13200.0\n",
            "\n",
            "[851 rows x 1 columns]\n",
            "======================\n",
            " Minyak Goreng\n",
            "               harga\n",
            "tanggal            \n",
            "2016-07-25  12850.0\n",
            "2016-07-26  12850.0\n",
            "2016-07-27  12850.0\n",
            "2016-07-28  12850.0\n",
            "2016-07-29  12850.0\n",
            "...             ...\n",
            "2019-12-23  13100.0\n",
            "2019-12-26  13100.0\n",
            "2019-12-27  13100.0\n",
            "2019-12-30  13150.0\n",
            "2019-12-31  13150.0\n",
            "\n",
            "[851 rows x 1 columns]\n",
            "======================\n",
            " Telur Ayam\n",
            "               harga\n",
            "tanggal            \n",
            "2016-07-25  21250.0\n",
            "2016-07-26  21250.0\n",
            "2016-07-27  21750.0\n",
            "2016-07-28  21750.0\n",
            "2016-07-29  21750.0\n",
            "...             ...\n",
            "2019-12-23  26650.0\n",
            "2019-12-26  26150.0\n",
            "2019-12-27  26150.0\n",
            "2019-12-30  25900.0\n",
            "2019-12-31  25650.0\n",
            "\n",
            "[851 rows x 1 columns]\n"
          ],
          "name": "stdout"
        }
      ]
    },
    {
      "cell_type": "markdown",
      "metadata": {
        "id": "PX8VrxJr22gA",
        "colab_type": "text"
      },
      "source": [
        "Remove null data"
      ]
    },
    {
      "cell_type": "code",
      "metadata": {
        "id": "ghRHqL4v215S",
        "colab_type": "code",
        "colab": {
          "base_uri": "https://localhost:8080/",
          "height": 538
        },
        "outputId": "4007fe98-eac4-4e40-8e58-458164dfae1d"
      },
      "source": [
        "print(bawang_merah_daily.dropna(how='any',axis=0))\n",
        "print(bawang_merah_daily.isnull().sum())\n",
        "print(bawang_merah_daily[bawang_merah_daily.isnull().any(axis=1)])\n",
        "print(bawang_putih_daily.isnull().sum())\n",
        "print(bawang_putih_daily[bawang_putih_daily.isnull().any(axis=1)])\n",
        "print(telur_ayam_daily.isnull().sum())\n",
        "print(telur_ayam_daily[telur_ayam_daily.isnull().any(axis=1)])\n",
        "\n",
        "\n"
      ],
      "execution_count": 143,
      "outputs": [
        {
          "output_type": "stream",
          "text": [
            "              harga\n",
            "tanggal            \n",
            "2016-07-25  50000.0\n",
            "2016-07-26  50000.0\n",
            "2016-07-27  49500.0\n",
            "2016-07-28  49500.0\n",
            "2016-07-29  54500.0\n",
            "...             ...\n",
            "2019-12-23  43250.0\n",
            "2019-12-26  43250.0\n",
            "2019-12-27  43250.0\n",
            "2019-12-30  43250.0\n",
            "2019-12-31  43250.0\n",
            "\n",
            "[851 rows x 1 columns]\n",
            "harga    0\n",
            "dtype: int64\n",
            "Empty DataFrame\n",
            "Columns: [harga]\n",
            "Index: []\n",
            "harga    0\n",
            "dtype: int64\n",
            "Empty DataFrame\n",
            "Columns: [harga]\n",
            "Index: []\n",
            "harga    0\n",
            "dtype: int64\n",
            "Empty DataFrame\n",
            "Columns: [harga]\n",
            "Index: []\n"
          ],
          "name": "stdout"
        }
      ]
    },
    {
      "cell_type": "markdown",
      "metadata": {
        "id": "OfIvEQtB-bPz",
        "colab_type": "text"
      },
      "source": [
        "Visualisasi Data"
      ]
    },
    {
      "cell_type": "code",
      "metadata": {
        "id": "IOToRc0pl6l3",
        "colab_type": "code",
        "outputId": "cbed44c9-19f8-4fad-ad46-f5e58426a101",
        "colab": {
          "base_uri": "https://localhost:8080/",
          "height": 666
        }
      },
      "source": [
        "plt.xlabel('Tanggal')\n",
        "plt.ylabel('Harga /Kg')\n",
        "print(cabai_rawit_daily)\n",
        "plt.plot(cabai_rawit_daily)"
      ],
      "execution_count": 169,
      "outputs": [
        {
          "output_type": "stream",
          "text": [
            "              harga\n",
            "tanggal            \n",
            "2016-07-25  42250.0\n",
            "2016-07-26  44750.0\n",
            "2016-07-27  45000.0\n",
            "2016-07-28  44500.0\n",
            "2016-07-29  44750.0\n",
            "...             ...\n",
            "2019-12-23  41250.0\n",
            "2019-12-26  41250.0\n",
            "2019-12-27  41250.0\n",
            "2019-12-30  41250.0\n",
            "2019-12-31  41250.0\n",
            "\n",
            "[851 rows x 1 columns]\n"
          ],
          "name": "stdout"
        },
        {
          "output_type": "execute_result",
          "data": {
            "text/plain": [
              "[<matplotlib.lines.Line2D at 0x7f4db9c24c50>]"
            ]
          },
          "metadata": {
            "tags": []
          },
          "execution_count": 169
        },
        {
          "output_type": "display_data",
          "data": {
            "image/png": "[encoded data removed]",
            "text/plain": [
              "<Figure size 720x432 with 1 Axes>"
            ]
          },
          "metadata": {
            "tags": [],
            "needs_background": "light"
          }
        }
      ]
    },
    {
      "cell_type": "markdown",
      "metadata": {
        "id": "Hk-u0_tL_Obx",
        "colab_type": "text"
      },
      "source": [
        "Determine rolling statistics"
      ]
    },
    {
      "cell_type": "code",
      "metadata": {
        "id": "v2HF2KUL_UBX",
        "colab_type": "code",
        "colab": {
          "base_uri": "https://localhost:8080/",
          "height": 521
        },
        "outputId": "63446270-6994-4b01-836a-7433c7415d52"
      },
      "source": [
        "rolmean = cabai_rawit_daily.rolling(window=6).mean() #window size 7 denotes 1 week , giving rolling mean at weekly level\n",
        "rolstd = cabai_rawit_daily.rolling(window=6).std()\n",
        "print(rolmean,rolstd)"
      ],
      "execution_count": 186,
      "outputs": [
        {
          "output_type": "stream",
          "text": [
            "                   harga\n",
            "tanggal                 \n",
            "2016-07-25           NaN\n",
            "2016-07-26           NaN\n",
            "2016-07-27           NaN\n",
            "2016-07-28           NaN\n",
            "2016-07-29           NaN\n",
            "...                  ...\n",
            "2019-12-23  37708.333333\n",
            "2019-12-26  38750.000000\n",
            "2019-12-27  39375.000000\n",
            "2019-12-30  40000.000000\n",
            "2019-12-31  40625.000000\n",
            "\n",
            "[851 rows x 1 columns]                   harga\n",
            "tanggal                \n",
            "2016-07-25          NaN\n",
            "2016-07-26          NaN\n",
            "2016-07-27          NaN\n",
            "2016-07-28          NaN\n",
            "2016-07-29          NaN\n",
            "...                 ...\n",
            "2019-12-23  2002.602473\n",
            "2019-12-26  1936.491673\n",
            "2019-12-27  2053.959591\n",
            "2019-12-30  1936.491673\n",
            "2019-12-31  1530.931089\n",
            "\n",
            "[851 rows x 1 columns]\n"
          ],
          "name": "stdout"
        }
      ]
    },
    {
      "cell_type": "markdown",
      "metadata": {
        "id": "pyIVx824_zNU",
        "colab_type": "text"
      },
      "source": [
        "Plotting dataset,rolling mean, rolling med"
      ]
    },
    {
      "cell_type": "code",
      "metadata": {
        "id": "nFlMcj0e_4Uk",
        "colab_type": "code",
        "colab": {
          "base_uri": "https://localhost:8080/",
          "height": 390
        },
        "outputId": "2ebc0102-2676-43c8-956f-5e49fc32a207"
      },
      "source": [
        "orig = plt.plot(cabai_rawit_daily, color='blue', label='Original')\n",
        "mean = plt.plot(rolmean, color='red', label='Rolling Mean')\n",
        "std = plt.plot(rolstd, color='black', label='Rolling Std')\n",
        "plt.legend(loc='best')\n",
        "plt.title('Rolling Mean & Standard Deviation dari Cabai Merah')\n",
        "plt.show(block=False)"
      ],
      "execution_count": 187,
      "outputs": [
        {
          "output_type": "display_data",
          "data": {
            "image/png": "[encoded data removed]",
            "text/plain": [
              "<Figure size 720x432 with 1 Axes>"
            ]
          },
          "metadata": {
            "tags": [],
            "needs_background": "light"
          }
        }
      ]
    },
    {
      "cell_type": "markdown",
      "metadata": {
        "id": "0_m8pU49BEfH",
        "colab_type": "text"
      },
      "source": [
        "\n",
        "\n",
        "From the above graph, we see that rolling mean itself has a trend component even though rolling standard deviation is fairly constant with time. For our time series to be stationary, we need to ensure that both the rolling statistics ie: mean & std. dev. remain time invariant or constant with time. Thus the curves for both of them have to be parallel to the x-axis, which in our case is not so.\n",
        "\n",
        "To further augment our hypothesis that the time series is not stationary, let us perform the ADCF test.\n"
      ]
    },
    {
      "cell_type": "code",
      "metadata": {
        "id": "DHnWoaVxBWZU",
        "colab_type": "code",
        "colab": {
          "base_uri": "https://localhost:8080/",
          "height": 173
        },
        "outputId": "f03f3776-f754-4687-fa25-34bbe4b407d2"
      },
      "source": [
        "#Perform Augmented Dickey–Fuller test:\n",
        "print('Results of Dickey Fuller Test:')\n",
        "dftest = adfuller(indexedDataset['harga'], autolag='BIC')\n",
        "\n",
        "dfoutput = pd.Series(dftest[0:4], index=['Test Statistic','p-value','#Lags Used','Number of Observations Used'])\n",
        "for key,value in dftest[4].items():\n",
        "    dfoutput['Critical Value (%s)'%key] = value\n",
        "    \n",
        "print(dfoutput)"
      ],
      "execution_count": 188,
      "outputs": [
        {
          "output_type": "stream",
          "text": [
            "Results of Dickey Fuller Test:\n",
            "Test Statistic                -5.905955e+00\n",
            "p-value                        2.708413e-07\n",
            "#Lags Used                     4.000000e+00\n",
            "Number of Observations Used    2.613700e+04\n",
            "Critical Value (1%)           -3.430600e+00\n",
            "Critical Value (5%)           -2.861651e+00\n",
            "Critical Value (10%)          -2.566829e+00\n",
            "dtype: float64\n"
          ],
          "name": "stdout"
        }
      ]
    }
  ]
}