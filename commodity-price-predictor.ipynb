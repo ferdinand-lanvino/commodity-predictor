{
  "nbformat": 4,
  "nbformat_minor": 0,
  "metadata": {
    "kernelspec": {
      "display_name": "Python 3",
      "language": "python",
      "name": "python3"
    },
    "language_info": {
      "codemirror_mode": {
        "name": "ipython",
        "version": 3
      },
      "file_extension": ".py",
      "mimetype": "text/x-python",
      "name": "python",
      "nbconvert_exporter": "python",
      "pygments_lexer": "ipython3",
      "version": "3.7.6"
    },
    "colab": {
      "name": "commodity-price-predictor.ipynb",
      "provenance": [],
      "toc_visible": true
    }
  },
  "cells": [
    {
      "cell_type": "markdown",
      "metadata": {
        "id": "i7PkPdbHD2Sg",
        "colab_type": "text"
      },
      "source": [
        "#Time Series Prediction on the Food Commodities Prices in Bandung\n",
        "**Author:** Ferdinand Lanvino<br>\n",
        "**Start Date:** 8th June, 2020<br>\n",
        "**Purpose:** Extract a meaningful information based on prediction model and data analysis of food commoditites<br>\n",
        "**Objective:** Build a prediction model of food commodities prices using various time-series forecasting methods, based on Python.<br>"
      ]
    },
    {
      "cell_type": "markdown",
      "metadata": {
        "id": "HcOxMSihPWT9",
        "colab_type": "text"
      },
      "source": [
        "Table of Contents:\n",
        "1. [Q&A](#q&a)\n",
        "2. [Preparing the Project Environment](#preparing-the-project-environment)\n"
      ]
    },
    {
      "cell_type": "markdown",
      "metadata": {
        "id": "k7JxYkmWT1H2",
        "colab_type": "text"
      },
      "source": [
        "## 1. Q&A <a name=\"q&a\"></a>\n",
        "**1. What is Time series analysis?**  \n",
        "A. Time Series is a series of observations taken at specified time intervals usually equal intervals. Analysis of the series helps us to predict future values based on previous observed values. In Time series, we have only 2 variables, time & the variable we want to forecast.  \n",
        "\n",
        "  \n",
        "**2. Why & where Time Series is used?**  \n",
        "A. Time series data can be analyzed in order to extract meaningful statistics and other characteristics. It's used in at least the 4 scenarios:  \n",
        "    a) Business Forecasting  \n",
        "    b) Understand past behavior  \n",
        "    c) Plan the future  \n",
        "    d) Evaluate current accomplishment  \n",
        "  \n",
        "**3. When shouldn't we use Time Series Analysis?**  \n",
        "A. We don't need to apply Time series in at least the following 2 cases:  \n",
        "    a) The dependant variable(y) (that is supposed to vary with time) is constant. Eq: y=f(x)=4, a line parallel to x-axis(time) will always remain the same.  \n",
        "    b) The dependant variable(y) represent values that can be denoted as a mathematical function. Eq: sin(x), log(x), Polynomials etc. Thus, we can directly get value at some time using the function itself. No need of forecasting.  \n",
        "  \n",
        "**4. What are the components of Time Series?**  \n",
        "A. There are 4 components:  \n",
        "    a) Trend - Upward & downward movement of the data with time over a large period of time. Eq: Appreciation of Dollar vs rupee.  \n",
        "    b) Seasonality - seasonal variances. Eq: Ice cream sales increases in Summer only  \n",
        "    c) Noise or Irregularity - Spikes & troughs at random intervals  \n",
        "    d) Cyclicity - behavior that repeats itself after large interval of time, like months, years etc.  \n",
        "    \n",
        "**5. What is Stationarity?**    \n",
        "A. Before applying any statistical model on a Time Series, the series has to be stationary, which means that, over different time periods,  \n",
        "    a) It should have constant mean.  \n",
        "    b) It should have constant variance or standard deviation.  \n",
        "    c) Auto-covariance should not depend on time.  \n",
        "\n",
        "Trend & Seasonality are two reasons why a Time Series is not stationary & hence need to be corrected.\n",
        "    \n",
        "**6. Why does Time Series(TS) need to be stationary?**  \n",
        "A. It is because of the following reasons:  \n",
        "    a) If a TS has a particular behavior over a time interval, then there's a high probability that over a different interval, it will have same behavior, provided TS is stationary. This helps in forecasting accurately.  \n",
        "    b) Theories & Mathematical formulas ae more mature & easier to apply for as TS which is stationary.  \n",
        "\n",
        "**7. Tests to check if a series is stationary or not**  \n",
        "A. There are 2 ways to check for Stationarity of a TS:  \n",
        "    a) Rolling Statistics - Plot the moving avg or moving standard deviation to see if it varies with time. Its a visual technique.  \n",
        "    b) ADCF Test - Augmented Dickey–Fuller test is used to gives us various values that can help in identifying stationarity. The Null hypothesis says that a TS is non-stationary. It comprises of a **Test Statistics** & some **critical values** for some confidence levels. If the Test statistics is less than the critical values, we can reject the null hypothesis & say that the series is stationary. THE ADCF test also gives us a **p-value**. Acc to the null hypothesis, lower values of p is better.\n",
        "    \n",
        "**8. What is ARIMA model?**      \n",
        "A. ARIMA(Auto Regressive Integrated Moving Average) is a combination of 2 models AR(Auto Regressive) & MA(Moving Average). It has 3 hyperparameters - P(auto regressive lags),d(order of differentiation),Q(moving avg.) which respectively comes from the AR, I & MA components. The AR part is correlation between prev & current time periods. To smooth out the noise, the MA part is used. The I part binds together the AR & MA parts. \n",
        "\n",
        "**9. How to find value of P & Q for ARIMA ?**  \n",
        "A. We need to take help of ACF(Auto Correlation Function) & PACF(Partial Auto Correlation Function) plots.\n",
        "ACF & PACF graphs are used to find value of P & Q for ARIMA. We need to check, for which value in x-axis, graph line drops to 0 in y-axis for 1st time.  \n",
        "From PACF(at y=0), get P  \n",
        "From ACF(at y=0), get Q  \n",
        "\n",
        "**10. What Is ADCF test?**  \n",
        "A. In statistics and econometrics, an augmented Dickey–Fuller test (ADF) tests the null hypothesis that a unit root is present in a time series sample. The alternative hypothesis is different depending on which version of the test is used, but is usually stationarity or trend-stationarity. It is an augmented version of the Dickey–Fuller test for a larger and more complicated set of time series models.\n",
        "\n",
        "The augmented Dickey–Fuller (ADF) statistic, used in the test, is a negative number. The more negative it is, the stronger the rejection of the hypothesis that there is a unit root at some level of confidence.\n",
        "\n",
        "p value(0<=p<=1) should be as low as possible. Critical values at different confidence intervals should be close to the Test statistics value.\n",
        "\n",
        "**11. What is Exponential Smoothing?**  \n",
        "A. *Exponential smoothing* is a rule of thumb technique for smoothing time series data using the exponential window function. Whereas in the simple moving average the past observations are weighted equally, exponential functions are used to assign exponentially decreasing weights over time. It is an easily learned and easily applied procedure for making some determination based on prior assumptions by the user, such as seasonality. Exponential smoothing is often used for analysis of time-series data.\n",
        "\n",
        "The raw data sequence is often represented by ${x_{t}}$ beginning at time $t=0$, and the output of the exponential smoothing algorithm is commonly written as ${s_{t}}$, which may be regarded as a best estimate of what the next value of $x$ will be. When the sequence of observations begins at time $t=0$, the simplest form of exponential smoothing is given by the formulas:  \n",
        "\n",
        "$s_{0} = x_{0}$  \n",
        "$s_{t} = α*x_{t} + (1-α)*s_{t-1}$  , $t>0$  \n",
        "\n",
        "where $α$ is the smoothing factor, and $0<α<1$.\n",
        "\n",
        "**12. What is Exponential decay?**  \n",
        "A. A quantity is subject to exponential decay if it decreases at a rate proportional to its current value. Symbolically, this process can be expressed by the following differential equation, where N is the quantity and λ (lambda) is a positive rate called the exponential decay constant:\n",
        "\n",
        "$dN/dt = -λN$\n",
        "\n",
        "The solution to this equation (see derivation below) is:  \n",
        "$N(t) = N_{0}*e^{-λt}$  \n",
        "\n",
        "where N(t) is the quantity at time t, and N0 = N(0) is the initial quantity, i.e. the quantity at time t = 0.  \n",
        "\n",
        "**Half Life** is the time required for the decaying quantity to fall to one half of its initial value. It is denoted by $t_{1/2}$. The half-life can be written in terms of the decay constant as:  \n",
        "\n",
        "$t_{1/2} = ln(2)/λ$  "
      ]
    },
    {
      "cell_type": "markdown",
      "metadata": {
        "id": "1XfeUZznLmnu",
        "colab_type": "text"
      },
      "source": [
        "## 2. Preparing the Project Environment <a name=\"preparing-the-project-environment\"></a>"
      ]
    },
    {
      "cell_type": "markdown",
      "metadata": {
        "id": "Llq432_iG5w0",
        "colab_type": "text"
      },
      "source": [
        "Cloning the dataset\n"
      ]
    },
    {
      "cell_type": "code",
      "metadata": {
        "id": "5Mq34vX9DuR5",
        "colab_type": "code",
        "colab": {
          "base_uri": "https://localhost:8080/",
          "height": 191
        },
        "outputId": "d08f1b49-30d2-4ee2-d96e-9b1b0f5011d5"
      },
      "source": [
        "# Clone commodity-predictor repo.\n",
        "!git clone -l -s git://github.com/ferdinand-lanvino/commodity-predictor.git\n",
        "%cd commodity-predictor\n",
        "!ls"
      ],
      "execution_count": 20,
      "outputs": [
        {
          "output_type": "stream",
          "text": [
            "Cloning into 'commodity-predictor'...\n",
            "warning: --local is ignored\n",
            "remote: Enumerating objects: 77, done.\u001b[K\n",
            "remote: Counting objects:   1% (1/77)\u001b[K\rremote: Counting objects:   2% (2/77)\u001b[K\rremote: Counting objects:   3% (3/77)\u001b[K\rremote: Counting objects:   5% (4/77)\u001b[K\rremote: Counting objects:   6% (5/77)\u001b[K\rremote: Counting objects:   7% (6/77)\u001b[K\rremote: Counting objects:   9% (7/77)\u001b[K\rremote: Counting objects:  10% (8/77)\u001b[K\rremote: Counting objects:  11% (9/77)\u001b[K\rremote: Counting objects:  12% (10/77)\u001b[K\rremote: Counting objects:  14% (11/77)\u001b[K\rremote: Counting objects:  15% (12/77)\u001b[K\rremote: Counting objects:  16% (13/77)\u001b[K\rremote: Counting objects:  18% (14/77)\u001b[K\rremote: Counting objects:  19% (15/77)\u001b[K\rremote: Counting objects:  20% (16/77)\u001b[K\rremote: Counting objects:  22% (17/77)\u001b[K\rremote: Counting objects:  23% (18/77)\u001b[K\rremote: Counting objects:  24% (19/77)\u001b[K\rremote: Counting objects:  25% (20/77)\u001b[K\rremote: Counting objects:  27% (21/77)\u001b[K\rremote: Counting objects:  28% (22/77)\u001b[K\rremote: Counting objects:  29% (23/77)\u001b[K\rremote: Counting objects:  31% (24/77)\u001b[K\rremote: Counting objects:  32% (25/77)\u001b[K\rremote: Counting objects:  33% (26/77)\u001b[K\rremote: Counting objects:  35% (27/77)\u001b[K\rremote: Counting objects:  36% (28/77)\u001b[K\rremote: Counting objects:  37% (29/77)\u001b[K\rremote: Counting objects:  38% (30/77)\u001b[K\rremote: Counting objects:  40% (31/77)\u001b[K\rremote: Counting objects:  41% (32/77)\u001b[K\rremote: Counting objects:  42% (33/77)\u001b[K\rremote: Counting objects:  44% (34/77)\u001b[K\rremote: Counting objects:  45% (35/77)\u001b[K\rremote: Counting objects:  46% (36/77)\u001b[K\rremote: Counting objects:  48% (37/77)\u001b[K\rremote: Counting objects:  49% (38/77)\u001b[K\rremote: Counting objects:  50% (39/77)\u001b[K\rremote: Counting objects:  51% (40/77)\u001b[K\rremote: Counting objects:  53% (41/77)\u001b[K\rremote: Counting objects:  54% (42/77)\u001b[K\rremote: Counting objects:  55% (43/77)\u001b[K\rremote: Counting objects:  57% (44/77)\u001b[K\rremote: Counting objects:  58% (45/77)\u001b[K\rremote: Counting objects:  59% (46/77)\u001b[K\rremote: Counting objects:  61% (47/77)\u001b[K\rremote: Counting objects:  62% (48/77)\u001b[K\rremote: Counting objects:  63% (49/77)\u001b[K\rremote: Counting objects:  64% (50/77)\u001b[K\rremote: Counting objects:  66% (51/77)\u001b[K\rremote: Counting objects:  67% (52/77)\u001b[K\rremote: Counting objects:  68% (53/77)\u001b[K\rremote: Counting objects:  70% (54/77)\u001b[K\rremote: Counting objects:  71% (55/77)\u001b[K\rremote: Counting objects:  72% (56/77)\u001b[K\rremote: Counting objects:  74% (57/77)\u001b[K\rremote: Counting objects:  75% (58/77)\u001b[K\rremote: Counting objects:  76% (59/77)\u001b[K\rremote: Counting objects:  77% (60/77)\u001b[K\rremote: Counting objects:  79% (61/77)\u001b[K\rremote: Counting objects:  80% (62/77)\u001b[K\rremote: Counting objects:  81% (63/77)\u001b[K\rremote: Counting objects:  83% (64/77)\u001b[K\rremote: Counting objects:  84% (65/77)\u001b[K\rremote: Counting objects:  85% (66/77)\u001b[K\rremote: Counting objects:  87% (67/77)\u001b[K\rremote: Counting objects:  88% (68/77)\u001b[K\rremote: Counting objects:  89% (69/77)\u001b[K\rremote: Counting objects:  90% (70/77)\u001b[K\rremote: Counting objects:  92% (71/77)\u001b[K\rremote: Counting objects:  93% (72/77)\u001b[K\rremote: Counting objects:  94% (73/77)\u001b[K\rremote: Counting objects:  96% (74/77)\u001b[K\rremote: Counting objects:  97% (75/77)\u001b[K\rremote: Counting objects:  98% (76/77)\u001b[K\rremote: Counting objects: 100% (77/77)\u001b[K\rremote: Counting objects: 100% (77/77), done.\u001b[K\n",
            "remote: Compressing objects: 100% (60/60), done.\u001b[K\n",
            "remote: Total 77 (delta 26), reused 41 (delta 10), pack-reused 0\u001b[K\n",
            "Receiving objects: 100% (77/77), 569.20 KiB | 791.00 KiB/s, done.\n",
            "Resolving deltas: 100% (26/26), done.\n",
            "/content/commodity-predictor/commodity-predictor\n",
            "commodity-price-predictor.ipynb  Dataset  README.md\n"
          ],
          "name": "stdout"
        }
      ]
    },
    {
      "cell_type": "markdown",
      "metadata": {
        "id": "mk_dqhGUKj7l",
        "colab_type": "text"
      },
      "source": [
        "Pull the latest update from Github"
      ]
    },
    {
      "cell_type": "code",
      "metadata": {
        "id": "5NuahaxxKnob",
        "colab_type": "code",
        "colab": {
          "base_uri": "https://localhost:8080/",
          "height": 34
        },
        "outputId": "2be5a80b-d2a5-4e75-dbd8-16becfa3fd40"
      },
      "source": [
        "!git pull"
      ],
      "execution_count": 21,
      "outputs": [
        {
          "output_type": "stream",
          "text": [
            "Already up to date.\n"
          ],
          "name": "stdout"
        }
      ]
    },
    {
      "cell_type": "markdown",
      "metadata": {
        "id": "uvPTikEKLxtV",
        "colab_type": "text"
      },
      "source": [
        "##2. Preprocessing the dataset"
      ]
    },
    {
      "cell_type": "markdown",
      "metadata": {
        "id": "y8_d7O3eHBet",
        "colab_type": "text"
      },
      "source": [
        "Importing the libraries"
      ]
    },
    {
      "cell_type": "code",
      "metadata": {
        "id": "zpoCi9dtHJb7",
        "colab_type": "code",
        "colab": {}
      },
      "source": [
        "#basic pacakges\n",
        "import numpy as np # linear algebra\n",
        "import pandas as pd # data processing, CSV file I/O\n",
        "import datetime # manipulating date formats\n",
        "\n",
        "#visualization\n",
        "import matplotlib as plt # basic plotting\n",
        "import seaborn as sns # for prettier plots\n"
      ],
      "execution_count": 0,
      "outputs": []
    },
    {
      "cell_type": "markdown",
      "metadata": {
        "id": "9vWQWdkjIpv1",
        "colab_type": "text"
      },
      "source": [
        "Importing the dataset"
      ]
    },
    {
      "cell_type": "code",
      "metadata": {
        "id": "rjKtQRjpIrxH",
        "colab_type": "code",
        "colab": {
          "base_uri": "https://localhost:8080/",
          "height": 424
        },
        "outputId": "53fa03f9-cc9e-4609-f998-2db3b641c6d9"
      },
      "source": [
        "dataset = pd.read_csv('Dataset/Unprocessed/combined.csv')\n",
        "dataset"
      ],
      "execution_count": 27,
      "outputs": [
        {
          "output_type": "execute_result",
          "data": {
            "text/html": [
              "<div>\n",
              "<style scoped>\n",
              "    .dataframe tbody tr th:only-of-type {\n",
              "        vertical-align: middle;\n",
              "    }\n",
              "\n",
              "    .dataframe tbody tr th {\n",
              "        vertical-align: top;\n",
              "    }\n",
              "\n",
              "    .dataframe thead th {\n",
              "        text-align: right;\n",
              "    }\n",
              "</style>\n",
              "<table border=\"1\" class=\"dataframe\">\n",
              "  <thead>\n",
              "    <tr style=\"text-align: right;\">\n",
              "      <th></th>\n",
              "      <th>komoditas</th>\n",
              "      <th>tanggal</th>\n",
              "      <th>harga</th>\n",
              "    </tr>\n",
              "  </thead>\n",
              "  <tbody>\n",
              "    <tr>\n",
              "      <th>0</th>\n",
              "      <td>Beras</td>\n",
              "      <td>25/07/2016</td>\n",
              "      <td>10900.0</td>\n",
              "    </tr>\n",
              "    <tr>\n",
              "      <th>1</th>\n",
              "      <td>Beras</td>\n",
              "      <td>26/07/2016</td>\n",
              "      <td>10950.0</td>\n",
              "    </tr>\n",
              "    <tr>\n",
              "      <th>2</th>\n",
              "      <td>Beras</td>\n",
              "      <td>27/07/2016</td>\n",
              "      <td>10950.0</td>\n",
              "    </tr>\n",
              "    <tr>\n",
              "      <th>3</th>\n",
              "      <td>Beras</td>\n",
              "      <td>28/07/2016</td>\n",
              "      <td>10950.0</td>\n",
              "    </tr>\n",
              "    <tr>\n",
              "      <th>4</th>\n",
              "      <td>Beras</td>\n",
              "      <td>29/07/2016</td>\n",
              "      <td>10950.0</td>\n",
              "    </tr>\n",
              "    <tr>\n",
              "      <th>...</th>\n",
              "      <td>...</td>\n",
              "      <td>...</td>\n",
              "      <td>...</td>\n",
              "    </tr>\n",
              "    <tr>\n",
              "      <th>26227</th>\n",
              "      <td>Gula Pasir Lokal</td>\n",
              "      <td>23/12/2019</td>\n",
              "      <td>13000.0</td>\n",
              "    </tr>\n",
              "    <tr>\n",
              "      <th>26228</th>\n",
              "      <td>Gula Pasir Lokal</td>\n",
              "      <td>26/12/2019</td>\n",
              "      <td>13000.0</td>\n",
              "    </tr>\n",
              "    <tr>\n",
              "      <th>26229</th>\n",
              "      <td>Gula Pasir Lokal</td>\n",
              "      <td>27/12/2019</td>\n",
              "      <td>13000.0</td>\n",
              "    </tr>\n",
              "    <tr>\n",
              "      <th>26230</th>\n",
              "      <td>Gula Pasir Lokal</td>\n",
              "      <td>30/12/2019</td>\n",
              "      <td>13000.0</td>\n",
              "    </tr>\n",
              "    <tr>\n",
              "      <th>26231</th>\n",
              "      <td>Gula Pasir Lokal</td>\n",
              "      <td>31/12/2019</td>\n",
              "      <td>13000.0</td>\n",
              "    </tr>\n",
              "  </tbody>\n",
              "</table>\n",
              "<p>26232 rows × 3 columns</p>\n",
              "</div>"
            ],
            "text/plain": [
              "              komoditas     tanggal    harga\n",
              "0                 Beras  25/07/2016  10900.0\n",
              "1                 Beras  26/07/2016  10950.0\n",
              "2                 Beras  27/07/2016  10950.0\n",
              "3                 Beras  28/07/2016  10950.0\n",
              "4                 Beras  29/07/2016  10950.0\n",
              "...                 ...         ...      ...\n",
              "26227  Gula Pasir Lokal  23/12/2019  13000.0\n",
              "26228  Gula Pasir Lokal  26/12/2019  13000.0\n",
              "26229  Gula Pasir Lokal  27/12/2019  13000.0\n",
              "26230  Gula Pasir Lokal  30/12/2019  13000.0\n",
              "26231  Gula Pasir Lokal  31/12/2019  13000.0\n",
              "\n",
              "[26232 rows x 3 columns]"
            ]
          },
          "metadata": {
            "tags": []
          },
          "execution_count": 27
        }
      ]
    },
    {
      "cell_type": "code",
      "metadata": {
        "id": "_uURB-dJWjlJ",
        "colab_type": "code",
        "colab": {
          "base_uri": "https://localhost:8080/",
          "height": 382
        },
        "outputId": "fcc545e7-a697-4eb6-b39a-d0a2ed17aa94"
      },
      "source": [
        "#date formatting\n",
        "dataset['tanggal'] = pd.to_datetime(dataset['tanggal'],format='%d/%m/%Y') #convert from string to datetime\n",
        "#checking data\n",
        "print(ds.info())\n",
        "indexedDataset = dataset.set_index(['tanggal'])\n",
        "indexedDataset.head(5)\n",
        "print(indexedDataset.info())"
      ],
      "execution_count": 33,
      "outputs": [
        {
          "output_type": "stream",
          "text": [
            "<class 'pandas.core.frame.DataFrame'>\n",
            "RangeIndex: 26232 entries, 0 to 26231\n",
            "Data columns (total 3 columns):\n",
            " #   Column     Non-Null Count  Dtype         \n",
            "---  ------     --------------  -----         \n",
            " 0   komoditas  26232 non-null  object        \n",
            " 1   tanggal    26232 non-null  datetime64[ns]\n",
            " 2   harga      26142 non-null  float64       \n",
            "dtypes: datetime64[ns](1), float64(1), object(1)\n",
            "memory usage: 614.9+ KB\n",
            "None\n",
            "<class 'pandas.core.frame.DataFrame'>\n",
            "DatetimeIndex: 26232 entries, 2016-07-25 to 2019-12-31\n",
            "Data columns (total 2 columns):\n",
            " #   Column     Non-Null Count  Dtype  \n",
            "---  ------     --------------  -----  \n",
            " 0   komoditas  26232 non-null  object \n",
            " 1   harga      26142 non-null  float64\n",
            "dtypes: float64(1), object(1)\n",
            "memory usage: 614.8+ KB\n",
            "None\n"
          ],
          "name": "stdout"
        }
      ]
    },
    {
      "cell_type": "markdown",
      "metadata": {
        "id": "-6WGHaA0Qxf7",
        "colab_type": "text"
      },
      "source": [
        ""
      ]
    },
    {
      "cell_type": "code",
      "metadata": {
        "id": "TZ6QUqD9QzKk",
        "colab_type": "code",
        "colab": {
          "base_uri": "https://localhost:8080/",
          "height": 1000
        },
        "outputId": "f0ed5fb8-90ee-4607-de12-314096bdbb23"
      },
      "source": [
        "# Aggregate to monthly level the required metrics\n",
        "monthly_data = dataset.groupby(\"komoditas\")[\"tanggal\",\"harga\"].agg({\"tanggal\":[\"min\",\"max\"]})\n",
        "monthly_data"
      ],
      "execution_count": 36,
      "outputs": [
        {
          "output_type": "stream",
          "text": [
            "/usr/local/lib/python3.6/dist-packages/ipykernel_launcher.py:2: FutureWarning: Indexing with multiple keys (implicitly converted to a tuple of keys) will be deprecated, use a list instead.\n",
            "  \n"
          ],
          "name": "stderr"
        },
        {
          "output_type": "execute_result",
          "data": {
            "text/html": [
              "<div>\n",
              "<style scoped>\n",
              "    .dataframe tbody tr th:only-of-type {\n",
              "        vertical-align: middle;\n",
              "    }\n",
              "\n",
              "    .dataframe tbody tr th {\n",
              "        vertical-align: top;\n",
              "    }\n",
              "\n",
              "    .dataframe thead tr th {\n",
              "        text-align: left;\n",
              "    }\n",
              "\n",
              "    .dataframe thead tr:last-of-type th {\n",
              "        text-align: right;\n",
              "    }\n",
              "</style>\n",
              "<table border=\"1\" class=\"dataframe\">\n",
              "  <thead>\n",
              "    <tr>\n",
              "      <th></th>\n",
              "      <th colspan=\"4\" halign=\"left\">tanggal</th>\n",
              "    </tr>\n",
              "    <tr>\n",
              "      <th></th>\n",
              "      <th colspan=\"2\" halign=\"left\">tanggal</th>\n",
              "      <th colspan=\"2\" halign=\"left\">harga</th>\n",
              "    </tr>\n",
              "    <tr>\n",
              "      <th></th>\n",
              "      <th>min</th>\n",
              "      <th>max</th>\n",
              "      <th>min</th>\n",
              "      <th>max</th>\n",
              "    </tr>\n",
              "    <tr>\n",
              "      <th>komoditas</th>\n",
              "      <th></th>\n",
              "      <th></th>\n",
              "      <th></th>\n",
              "      <th></th>\n",
              "    </tr>\n",
              "  </thead>\n",
              "  <tbody>\n",
              "    <tr>\n",
              "      <th>Bawang Merah</th>\n",
              "      <td>2016-07-25</td>\n",
              "      <td>2019-12-31</td>\n",
              "      <td>22500.0</td>\n",
              "      <td>54500.0</td>\n",
              "    </tr>\n",
              "    <tr>\n",
              "      <th>Bawang Merah Ukuran Sedang</th>\n",
              "      <td>2016-07-25</td>\n",
              "      <td>2019-12-31</td>\n",
              "      <td>22500.0</td>\n",
              "      <td>54500.0</td>\n",
              "    </tr>\n",
              "    <tr>\n",
              "      <th>Bawang Putih</th>\n",
              "      <td>2016-07-25</td>\n",
              "      <td>2019-12-31</td>\n",
              "      <td>23500.0</td>\n",
              "      <td>87500.0</td>\n",
              "    </tr>\n",
              "    <tr>\n",
              "      <th>Bawang Putih Ukuran Sedang</th>\n",
              "      <td>2017-01-03</td>\n",
              "      <td>2019-12-31</td>\n",
              "      <td>23500.0</td>\n",
              "      <td>87500.0</td>\n",
              "    </tr>\n",
              "    <tr>\n",
              "      <th>Bawang Putih Ukuran Sedang (kg)</th>\n",
              "      <td>2016-07-25</td>\n",
              "      <td>2016-12-30</td>\n",
              "      <td>36000.0</td>\n",
              "      <td>44000.0</td>\n",
              "    </tr>\n",
              "    <tr>\n",
              "      <th>Beras</th>\n",
              "      <td>2016-07-25</td>\n",
              "      <td>2019-12-31</td>\n",
              "      <td>10900.0</td>\n",
              "      <td>12650.0</td>\n",
              "    </tr>\n",
              "    <tr>\n",
              "      <th>Beras Kualitas Bawah I</th>\n",
              "      <td>2016-07-25</td>\n",
              "      <td>2019-12-31</td>\n",
              "      <td>9750.0</td>\n",
              "      <td>11900.0</td>\n",
              "    </tr>\n",
              "    <tr>\n",
              "      <th>Beras Kualitas Bawah II</th>\n",
              "      <td>2016-07-25</td>\n",
              "      <td>2019-12-31</td>\n",
              "      <td>9000.0</td>\n",
              "      <td>11500.0</td>\n",
              "    </tr>\n",
              "    <tr>\n",
              "      <th>Beras Kualitas Medium I</th>\n",
              "      <td>2016-07-25</td>\n",
              "      <td>2019-12-31</td>\n",
              "      <td>11400.0</td>\n",
              "      <td>14500.0</td>\n",
              "    </tr>\n",
              "    <tr>\n",
              "      <th>Beras Kualitas Medium II</th>\n",
              "      <td>2016-07-25</td>\n",
              "      <td>2019-12-31</td>\n",
              "      <td>10850.0</td>\n",
              "      <td>13650.0</td>\n",
              "    </tr>\n",
              "    <tr>\n",
              "      <th>Beras Kualitas Super I</th>\n",
              "      <td>2016-07-25</td>\n",
              "      <td>2019-12-31</td>\n",
              "      <td>12250.0</td>\n",
              "      <td>14000.0</td>\n",
              "    </tr>\n",
              "    <tr>\n",
              "      <th>Beras Kualitas Super II</th>\n",
              "      <td>2016-07-25</td>\n",
              "      <td>2019-12-31</td>\n",
              "      <td>9250.0</td>\n",
              "      <td>13100.0</td>\n",
              "    </tr>\n",
              "    <tr>\n",
              "      <th>Cabai Merah</th>\n",
              "      <td>2016-07-25</td>\n",
              "      <td>2019-12-31</td>\n",
              "      <td>26250.0</td>\n",
              "      <td>102500.0</td>\n",
              "    </tr>\n",
              "    <tr>\n",
              "      <th>Cabai Merah Besar</th>\n",
              "      <td>2016-07-25</td>\n",
              "      <td>2019-12-31</td>\n",
              "      <td>26000.0</td>\n",
              "      <td>122500.0</td>\n",
              "    </tr>\n",
              "    <tr>\n",
              "      <th>Cabai Merah Keriting</th>\n",
              "      <td>2016-07-25</td>\n",
              "      <td>2019-12-31</td>\n",
              "      <td>22500.0</td>\n",
              "      <td>102500.0</td>\n",
              "    </tr>\n",
              "    <tr>\n",
              "      <th>Cabai Rawit</th>\n",
              "      <td>2016-07-25</td>\n",
              "      <td>2019-12-31</td>\n",
              "      <td>22500.0</td>\n",
              "      <td>127500.0</td>\n",
              "    </tr>\n",
              "    <tr>\n",
              "      <th>Cabai Rawit Hijau</th>\n",
              "      <td>2016-07-25</td>\n",
              "      <td>2019-12-31</td>\n",
              "      <td>22500.0</td>\n",
              "      <td>97500.0</td>\n",
              "    </tr>\n",
              "    <tr>\n",
              "      <th>Cabai Rawit Merah</th>\n",
              "      <td>2016-07-25</td>\n",
              "      <td>2019-12-31</td>\n",
              "      <td>22500.0</td>\n",
              "      <td>160000.0</td>\n",
              "    </tr>\n",
              "    <tr>\n",
              "      <th>Daging Ayam</th>\n",
              "      <td>2016-07-25</td>\n",
              "      <td>2019-12-31</td>\n",
              "      <td>29750.0</td>\n",
              "      <td>46250.0</td>\n",
              "    </tr>\n",
              "    <tr>\n",
              "      <th>Daging Ayam Ras Segar</th>\n",
              "      <td>2016-07-25</td>\n",
              "      <td>2019-12-31</td>\n",
              "      <td>29750.0</td>\n",
              "      <td>46250.0</td>\n",
              "    </tr>\n",
              "    <tr>\n",
              "      <th>Daging Sapi</th>\n",
              "      <td>2016-07-25</td>\n",
              "      <td>2019-12-31</td>\n",
              "      <td>125000.0</td>\n",
              "      <td>147500.0</td>\n",
              "    </tr>\n",
              "    <tr>\n",
              "      <th>Daging Sapi Kualitas I</th>\n",
              "      <td>2016-07-25</td>\n",
              "      <td>2019-12-31</td>\n",
              "      <td>130000.0</td>\n",
              "      <td>160000.0</td>\n",
              "    </tr>\n",
              "    <tr>\n",
              "      <th>Daging Sapi Kualitas II</th>\n",
              "      <td>2016-07-25</td>\n",
              "      <td>2019-12-31</td>\n",
              "      <td>120000.0</td>\n",
              "      <td>137500.0</td>\n",
              "    </tr>\n",
              "    <tr>\n",
              "      <th>Gula Pasir</th>\n",
              "      <td>2016-07-25</td>\n",
              "      <td>2019-12-31</td>\n",
              "      <td>12450.0</td>\n",
              "      <td>16700.0</td>\n",
              "    </tr>\n",
              "    <tr>\n",
              "      <th>Gula Pasir Kualitas Premium</th>\n",
              "      <td>2016-07-25</td>\n",
              "      <td>2019-12-31</td>\n",
              "      <td>13150.0</td>\n",
              "      <td>17250.0</td>\n",
              "    </tr>\n",
              "    <tr>\n",
              "      <th>Gula Pasir Lokal</th>\n",
              "      <td>2016-07-25</td>\n",
              "      <td>2019-12-31</td>\n",
              "      <td>11750.0</td>\n",
              "      <td>16150.0</td>\n",
              "    </tr>\n",
              "    <tr>\n",
              "      <th>Minyak Goreng</th>\n",
              "      <td>2016-07-25</td>\n",
              "      <td>2019-12-31</td>\n",
              "      <td>12450.0</td>\n",
              "      <td>14550.0</td>\n",
              "    </tr>\n",
              "    <tr>\n",
              "      <th>Minyak Goreng Curah</th>\n",
              "      <td>2016-07-25</td>\n",
              "      <td>2019-12-31</td>\n",
              "      <td>10500.0</td>\n",
              "      <td>13650.0</td>\n",
              "    </tr>\n",
              "    <tr>\n",
              "      <th>Minyak Goreng Kemasan Bermerk I</th>\n",
              "      <td>2016-07-25</td>\n",
              "      <td>2019-12-31</td>\n",
              "      <td>13000.0</td>\n",
              "      <td>15400.0</td>\n",
              "    </tr>\n",
              "    <tr>\n",
              "      <th>Minyak Goreng Kemasan Bermerk II</th>\n",
              "      <td>2016-07-25</td>\n",
              "      <td>2019-12-31</td>\n",
              "      <td>13150.0</td>\n",
              "      <td>15150.0</td>\n",
              "    </tr>\n",
              "    <tr>\n",
              "      <th>Telur Ayam</th>\n",
              "      <td>2016-07-25</td>\n",
              "      <td>2019-12-31</td>\n",
              "      <td>17500.0</td>\n",
              "      <td>29250.0</td>\n",
              "    </tr>\n",
              "    <tr>\n",
              "      <th>Telur Ayam Ras Segar</th>\n",
              "      <td>2016-07-25</td>\n",
              "      <td>2019-12-31</td>\n",
              "      <td>17500.0</td>\n",
              "      <td>29250.0</td>\n",
              "    </tr>\n",
              "  </tbody>\n",
              "</table>\n",
              "</div>"
            ],
            "text/plain": [
              "                                    tanggal                               \n",
              "                                    tanggal                harga          \n",
              "                                        min        max       min       max\n",
              "komoditas                                                                 \n",
              "Bawang Merah                     2016-07-25 2019-12-31   22500.0   54500.0\n",
              "Bawang Merah Ukuran Sedang       2016-07-25 2019-12-31   22500.0   54500.0\n",
              "Bawang Putih                     2016-07-25 2019-12-31   23500.0   87500.0\n",
              "Bawang Putih Ukuran Sedang       2017-01-03 2019-12-31   23500.0   87500.0\n",
              "Bawang Putih Ukuran Sedang (kg)  2016-07-25 2016-12-30   36000.0   44000.0\n",
              "Beras                            2016-07-25 2019-12-31   10900.0   12650.0\n",
              "Beras Kualitas Bawah I           2016-07-25 2019-12-31    9750.0   11900.0\n",
              "Beras Kualitas Bawah II          2016-07-25 2019-12-31    9000.0   11500.0\n",
              "Beras Kualitas Medium I          2016-07-25 2019-12-31   11400.0   14500.0\n",
              "Beras Kualitas Medium II         2016-07-25 2019-12-31   10850.0   13650.0\n",
              "Beras Kualitas Super I           2016-07-25 2019-12-31   12250.0   14000.0\n",
              "Beras Kualitas Super II          2016-07-25 2019-12-31    9250.0   13100.0\n",
              "Cabai Merah                      2016-07-25 2019-12-31   26250.0  102500.0\n",
              "Cabai Merah Besar                2016-07-25 2019-12-31   26000.0  122500.0\n",
              "Cabai Merah Keriting             2016-07-25 2019-12-31   22500.0  102500.0\n",
              "Cabai Rawit                      2016-07-25 2019-12-31   22500.0  127500.0\n",
              "Cabai Rawit Hijau                2016-07-25 2019-12-31   22500.0   97500.0\n",
              "Cabai Rawit Merah                2016-07-25 2019-12-31   22500.0  160000.0\n",
              "Daging Ayam                      2016-07-25 2019-12-31   29750.0   46250.0\n",
              "Daging Ayam Ras Segar            2016-07-25 2019-12-31   29750.0   46250.0\n",
              "Daging Sapi                      2016-07-25 2019-12-31  125000.0  147500.0\n",
              "Daging Sapi Kualitas I           2016-07-25 2019-12-31  130000.0  160000.0\n",
              "Daging Sapi Kualitas II          2016-07-25 2019-12-31  120000.0  137500.0\n",
              "Gula Pasir                       2016-07-25 2019-12-31   12450.0   16700.0\n",
              "Gula Pasir Kualitas Premium      2016-07-25 2019-12-31   13150.0   17250.0\n",
              "Gula Pasir Lokal                 2016-07-25 2019-12-31   11750.0   16150.0\n",
              "Minyak Goreng                    2016-07-25 2019-12-31   12450.0   14550.0\n",
              "Minyak Goreng Curah              2016-07-25 2019-12-31   10500.0   13650.0\n",
              "Minyak Goreng Kemasan Bermerk I  2016-07-25 2019-12-31   13000.0   15400.0\n",
              "Minyak Goreng Kemasan Bermerk II 2016-07-25 2019-12-31   13150.0   15150.0\n",
              "Telur Ayam                       2016-07-25 2019-12-31   17500.0   29250.0\n",
              "Telur Ayam Ras Segar             2016-07-25 2019-12-31   17500.0   29250.0"
            ]
          },
          "metadata": {
            "tags": []
          },
          "execution_count": 36
        }
      ]
    }
  ]
}